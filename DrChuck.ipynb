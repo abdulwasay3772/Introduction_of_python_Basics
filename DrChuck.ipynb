{
  "nbformat": 4,
  "nbformat_minor": 0,
  "metadata": {
    "colab": {
      "name": "DrChuck.ipynb",
      "provenance": [],
      "collapsed_sections": []
    },
    "kernelspec": {
      "name": "python3",
      "display_name": "Python 3"
    },
    "language_info": {
      "name": "python"
    }
  },
  "cells": [
    {
      "cell_type": "markdown",
      "metadata": {
        "id": "i3k4YZ1VAm8I"
      },
      "source": [
        "# **How To Think Like a Computer Scientist**"
      ]
    },
    {
      "cell_type": "markdown",
      "metadata": {
        "id": "URF9Dv1ZpXMV"
      },
      "source": [
        "## **Chapter No 01**\n",
        "\n",
        "**The Way Of The Program**"
      ]
    },
    {
      "cell_type": "markdown",
      "metadata": {
        "id": "JWh3kp_w4E4t"
      },
      "source": [
        "**1.1  The Python Programming Language**\n",
        "\n",
        "Python is a general-purpose programming language, so it can be used for many things. Python is used for web development, AI, machine learning, operating systems, mobile application development, and video games."
      ]
    },
    {
      "cell_type": "markdown",
      "metadata": {
        "id": "_xnJ_C9Q4cBp"
      },
      "source": [
        "**1.2  What is Program**\n",
        "\n",
        "Program is a sequence of instructions that specifies to a computer actions and computations to be performed"
      ]
    },
    {
      "cell_type": "markdown",
      "metadata": {
        "id": "iBkCtykJmthw"
      },
      "source": [
        "## **The First Program**"
      ]
    },
    {
      "cell_type": "code",
      "metadata": {
        "colab": {
          "base_uri": "https://localhost:8080/"
        },
        "id": "ZkKlUS3Vpeva",
        "outputId": "3313d6e3-b8a4-49ce-bc00-34ba15834e1e"
      },
      "source": [
        "print('Hello, world!')"
      ],
      "execution_count": null,
      "outputs": [
        {
          "output_type": "stream",
          "text": [
            "Hello, world!\n"
          ],
          "name": "stdout"
        }
      ]
    },
    {
      "cell_type": "markdown",
      "metadata": {
        "id": "g8oKR27wqgbT"
      },
      "source": [
        "## **Chapter No 02**\n",
        "**Variables, Expressions and Statements**"
      ]
    },
    {
      "cell_type": "markdown",
      "metadata": {
        "id": "HLODKW19qylk"
      },
      "source": [
        "**2.1  Values And Types**"
      ]
    },
    {
      "cell_type": "code",
      "metadata": {
        "colab": {
          "base_uri": "https://localhost:8080/"
        },
        "id": "q2OdUk9zqsNl",
        "outputId": "db4d7c5a-112f-4f0b-90cf-7b5398767b1b"
      },
      "source": [
        "print('4')"
      ],
      "execution_count": null,
      "outputs": [
        {
          "output_type": "stream",
          "text": [
            "4\n"
          ],
          "name": "stdout"
        }
      ]
    },
    {
      "cell_type": "code",
      "metadata": {
        "colab": {
          "base_uri": "https://localhost:8080/"
        },
        "id": "e61C7ZpIrQWG",
        "outputId": "9ccdb21c-10e3-4db6-bf13-faa4eff7f69c"
      },
      "source": [
        "print(1,000,000)                    "
      ],
      "execution_count": null,
      "outputs": [
        {
          "output_type": "stream",
          "text": [
            "1 0 0\n"
          ],
          "name": "stdout"
        }
      ]
    },
    {
      "cell_type": "markdown",
      "metadata": {
        "id": "L-_YIcXOrdlK"
      },
      "source": [
        "**2.2  Variables**"
      ]
    },
    {
      "cell_type": "code",
      "metadata": {
        "colab": {
          "base_uri": "https://localhost:8080/"
        },
        "id": "gYBO5hQtrkDE",
        "outputId": "55265203-ce73-4833-edff-b752de1931a9"
      },
      "source": [
        "message=\"What's Up, Doc?\"          # assigning a value to message\n",
        "n=17                               # assigning a value to n\n",
        "pi=3.14159                         # assigning a value to pi\n",
        "print(message)\n",
        "print(n)\n",
        "print(pi)"
      ],
      "execution_count": null,
      "outputs": [
        {
          "output_type": "stream",
          "text": [
            "What's Up, Doc?\n",
            "17\n",
            "3.14159\n"
          ],
          "name": "stdout"
        }
      ]
    },
    {
      "cell_type": "markdown",
      "metadata": {
        "id": "7XiVLHD1tFls"
      },
      "source": [
        "**2.3  Variable names and Keywords**"
      ]
    },
    {
      "cell_type": "code",
      "metadata": {
        "colab": {
          "base_uri": "https://localhost:8080/",
          "height": 129
        },
        "id": "8uj_SQ2btPZU",
        "outputId": "7489a8bb-8687-4dc1-e23a-3f662a1c9645"
      },
      "source": [
        "76trombones = \"big parade\"          "
      ],
      "execution_count": null,
      "outputs": [
        {
          "output_type": "error",
          "ename": "SyntaxError",
          "evalue": "ignored",
          "traceback": [
            "\u001b[0;36m  File \u001b[0;32m\"<ipython-input-23-38c9fded94d6>\"\u001b[0;36m, line \u001b[0;32m1\u001b[0m\n\u001b[0;31m    76trombones = \"big parade\"\u001b[0m\n\u001b[0m              ^\u001b[0m\n\u001b[0;31mSyntaxError\u001b[0m\u001b[0;31m:\u001b[0m invalid syntax\n"
          ]
        }
      ]
    },
    {
      "cell_type": "code",
      "metadata": {
        "colab": {
          "base_uri": "https://localhost:8080/",
          "height": 340
        },
        "id": "aWvJ0b-hv2EO",
        "outputId": "d3f8cc48-6ae2-41f6-993f-d9d5593c1525"
      },
      "source": [
        "more$ = 1000000          "
      ],
      "execution_count": null,
      "outputs": [
        {
          "output_type": "error",
          "ename": "FileNotFoundError",
          "evalue": "ignored",
          "traceback": [
            "\u001b[0;31m---------------------------------------------------------------------------\u001b[0m",
            "\u001b[0;31mFileNotFoundError\u001b[0m                         Traceback (most recent call last)",
            "\u001b[0;32m<ipython-input-28-3042c4faa7ce>\u001b[0m in \u001b[0;36m<module>\u001b[0;34m()\u001b[0m\n\u001b[0;32m----> 1\u001b[0;31m \u001b[0mget_ipython\u001b[0m\u001b[0;34m(\u001b[0m\u001b[0;34m)\u001b[0m\u001b[0;34m.\u001b[0m\u001b[0mmagic\u001b[0m\u001b[0;34m(\u001b[0m\u001b[0;34m'more $ = 1000000'\u001b[0m\u001b[0;34m)\u001b[0m\u001b[0;34m\u001b[0m\u001b[0;34m\u001b[0m\u001b[0m\n\u001b[0m",
            "\u001b[0;32m/usr/local/lib/python3.7/dist-packages/IPython/core/interactiveshell.py\u001b[0m in \u001b[0;36mmagic\u001b[0;34m(self, arg_s)\u001b[0m\n\u001b[1;32m   2158\u001b[0m         \u001b[0mmagic_name\u001b[0m\u001b[0;34m,\u001b[0m \u001b[0m_\u001b[0m\u001b[0;34m,\u001b[0m \u001b[0mmagic_arg_s\u001b[0m \u001b[0;34m=\u001b[0m \u001b[0marg_s\u001b[0m\u001b[0;34m.\u001b[0m\u001b[0mpartition\u001b[0m\u001b[0;34m(\u001b[0m\u001b[0;34m' '\u001b[0m\u001b[0;34m)\u001b[0m\u001b[0;34m\u001b[0m\u001b[0;34m\u001b[0m\u001b[0m\n\u001b[1;32m   2159\u001b[0m         \u001b[0mmagic_name\u001b[0m \u001b[0;34m=\u001b[0m \u001b[0mmagic_name\u001b[0m\u001b[0;34m.\u001b[0m\u001b[0mlstrip\u001b[0m\u001b[0;34m(\u001b[0m\u001b[0mprefilter\u001b[0m\u001b[0;34m.\u001b[0m\u001b[0mESC_MAGIC\u001b[0m\u001b[0;34m)\u001b[0m\u001b[0;34m\u001b[0m\u001b[0;34m\u001b[0m\u001b[0m\n\u001b[0;32m-> 2160\u001b[0;31m         \u001b[0;32mreturn\u001b[0m \u001b[0mself\u001b[0m\u001b[0;34m.\u001b[0m\u001b[0mrun_line_magic\u001b[0m\u001b[0;34m(\u001b[0m\u001b[0mmagic_name\u001b[0m\u001b[0;34m,\u001b[0m \u001b[0mmagic_arg_s\u001b[0m\u001b[0;34m)\u001b[0m\u001b[0;34m\u001b[0m\u001b[0;34m\u001b[0m\u001b[0m\n\u001b[0m\u001b[1;32m   2161\u001b[0m \u001b[0;34m\u001b[0m\u001b[0m\n\u001b[1;32m   2162\u001b[0m     \u001b[0;31m#-------------------------------------------------------------------------\u001b[0m\u001b[0;34m\u001b[0m\u001b[0;34m\u001b[0m\u001b[0;34m\u001b[0m\u001b[0m\n",
            "\u001b[0;32m/usr/local/lib/python3.7/dist-packages/IPython/core/interactiveshell.py\u001b[0m in \u001b[0;36mrun_line_magic\u001b[0;34m(self, magic_name, line)\u001b[0m\n\u001b[1;32m   2079\u001b[0m                 \u001b[0mkwargs\u001b[0m\u001b[0;34m[\u001b[0m\u001b[0;34m'local_ns'\u001b[0m\u001b[0;34m]\u001b[0m \u001b[0;34m=\u001b[0m \u001b[0msys\u001b[0m\u001b[0;34m.\u001b[0m\u001b[0m_getframe\u001b[0m\u001b[0;34m(\u001b[0m\u001b[0mstack_depth\u001b[0m\u001b[0;34m)\u001b[0m\u001b[0;34m.\u001b[0m\u001b[0mf_locals\u001b[0m\u001b[0;34m\u001b[0m\u001b[0;34m\u001b[0m\u001b[0m\n\u001b[1;32m   2080\u001b[0m             \u001b[0;32mwith\u001b[0m \u001b[0mself\u001b[0m\u001b[0;34m.\u001b[0m\u001b[0mbuiltin_trap\u001b[0m\u001b[0;34m:\u001b[0m\u001b[0;34m\u001b[0m\u001b[0;34m\u001b[0m\u001b[0m\n\u001b[0;32m-> 2081\u001b[0;31m                 \u001b[0mresult\u001b[0m \u001b[0;34m=\u001b[0m \u001b[0mfn\u001b[0m\u001b[0;34m(\u001b[0m\u001b[0;34m*\u001b[0m\u001b[0margs\u001b[0m\u001b[0;34m,\u001b[0m\u001b[0;34m**\u001b[0m\u001b[0mkwargs\u001b[0m\u001b[0;34m)\u001b[0m\u001b[0;34m\u001b[0m\u001b[0;34m\u001b[0m\u001b[0m\n\u001b[0m\u001b[1;32m   2082\u001b[0m             \u001b[0;32mreturn\u001b[0m \u001b[0mresult\u001b[0m\u001b[0;34m\u001b[0m\u001b[0;34m\u001b[0m\u001b[0m\n\u001b[1;32m   2083\u001b[0m \u001b[0;34m\u001b[0m\u001b[0m\n",
            "\u001b[0;32m<decorator-gen-107>\u001b[0m in \u001b[0;36mless\u001b[0;34m(self, arg_s)\u001b[0m\n",
            "\u001b[0;32m/usr/local/lib/python3.7/dist-packages/IPython/core/magic.py\u001b[0m in \u001b[0;36m<lambda>\u001b[0;34m(f, *a, **k)\u001b[0m\n\u001b[1;32m    186\u001b[0m     \u001b[0;31m# but it's overkill for just that one bit of state.\u001b[0m\u001b[0;34m\u001b[0m\u001b[0;34m\u001b[0m\u001b[0;34m\u001b[0m\u001b[0m\n\u001b[1;32m    187\u001b[0m     \u001b[0;32mdef\u001b[0m \u001b[0mmagic_deco\u001b[0m\u001b[0;34m(\u001b[0m\u001b[0marg\u001b[0m\u001b[0;34m)\u001b[0m\u001b[0;34m:\u001b[0m\u001b[0;34m\u001b[0m\u001b[0;34m\u001b[0m\u001b[0m\n\u001b[0;32m--> 188\u001b[0;31m         \u001b[0mcall\u001b[0m \u001b[0;34m=\u001b[0m \u001b[0;32mlambda\u001b[0m \u001b[0mf\u001b[0m\u001b[0;34m,\u001b[0m \u001b[0;34m*\u001b[0m\u001b[0ma\u001b[0m\u001b[0;34m,\u001b[0m \u001b[0;34m**\u001b[0m\u001b[0mk\u001b[0m\u001b[0;34m:\u001b[0m \u001b[0mf\u001b[0m\u001b[0;34m(\u001b[0m\u001b[0;34m*\u001b[0m\u001b[0ma\u001b[0m\u001b[0;34m,\u001b[0m \u001b[0;34m**\u001b[0m\u001b[0mk\u001b[0m\u001b[0;34m)\u001b[0m\u001b[0;34m\u001b[0m\u001b[0;34m\u001b[0m\u001b[0m\n\u001b[0m\u001b[1;32m    189\u001b[0m \u001b[0;34m\u001b[0m\u001b[0m\n\u001b[1;32m    190\u001b[0m         \u001b[0;32mif\u001b[0m \u001b[0mcallable\u001b[0m\u001b[0;34m(\u001b[0m\u001b[0marg\u001b[0m\u001b[0;34m)\u001b[0m\u001b[0;34m:\u001b[0m\u001b[0;34m\u001b[0m\u001b[0;34m\u001b[0m\u001b[0m\n",
            "\u001b[0;32m/usr/local/lib/python3.7/dist-packages/ipykernel/zmqshell.py\u001b[0m in \u001b[0;36mless\u001b[0;34m(self, arg_s)\u001b[0m\n\u001b[1;32m    340\u001b[0m             \u001b[0mcont\u001b[0m \u001b[0;34m=\u001b[0m \u001b[0mself\u001b[0m\u001b[0;34m.\u001b[0m\u001b[0mshell\u001b[0m\u001b[0;34m.\u001b[0m\u001b[0mpycolorize\u001b[0m\u001b[0;34m(\u001b[0m\u001b[0mopenpy\u001b[0m\u001b[0;34m.\u001b[0m\u001b[0mread_py_file\u001b[0m\u001b[0;34m(\u001b[0m\u001b[0marg_s\u001b[0m\u001b[0;34m,\u001b[0m \u001b[0mskip_encoding_cookie\u001b[0m\u001b[0;34m=\u001b[0m\u001b[0;32mFalse\u001b[0m\u001b[0;34m)\u001b[0m\u001b[0;34m)\u001b[0m\u001b[0;34m\u001b[0m\u001b[0;34m\u001b[0m\u001b[0m\n\u001b[1;32m    341\u001b[0m         \u001b[0;32melse\u001b[0m\u001b[0;34m:\u001b[0m\u001b[0;34m\u001b[0m\u001b[0;34m\u001b[0m\u001b[0m\n\u001b[0;32m--> 342\u001b[0;31m             \u001b[0mcont\u001b[0m \u001b[0;34m=\u001b[0m \u001b[0mopen\u001b[0m\u001b[0;34m(\u001b[0m\u001b[0marg_s\u001b[0m\u001b[0;34m)\u001b[0m\u001b[0;34m.\u001b[0m\u001b[0mread\u001b[0m\u001b[0;34m(\u001b[0m\u001b[0;34m)\u001b[0m\u001b[0;34m\u001b[0m\u001b[0;34m\u001b[0m\u001b[0m\n\u001b[0m\u001b[1;32m    343\u001b[0m         \u001b[0mpage\u001b[0m\u001b[0;34m.\u001b[0m\u001b[0mpage\u001b[0m\u001b[0;34m(\u001b[0m\u001b[0mcont\u001b[0m\u001b[0;34m)\u001b[0m\u001b[0;34m\u001b[0m\u001b[0;34m\u001b[0m\u001b[0m\n\u001b[1;32m    344\u001b[0m \u001b[0;34m\u001b[0m\u001b[0m\n",
            "\u001b[0;31mFileNotFoundError\u001b[0m: [Errno 2] No such file or directory: '$ = 1000000'"
          ]
        }
      ]
    },
    {
      "cell_type": "markdown",
      "metadata": {
        "id": "8R43LExDwzHN"
      },
      "source": [
        "**2.4  Statements**"
      ]
    },
    {
      "cell_type": "code",
      "metadata": {
        "colab": {
          "base_uri": "https://localhost:8080/"
        },
        "id": "Ep7pClkkw3_k",
        "outputId": "738f9254-c98b-46ec-940f-cba213b3e1e2"
      },
      "source": [
        "print(1)            # to print the value 1\n",
        "x=2\n",
        "print (x)           # to print the value of x"
      ],
      "execution_count": null,
      "outputs": [
        {
          "output_type": "stream",
          "text": [
            "1\n",
            "2\n"
          ],
          "name": "stdout"
        }
      ]
    },
    {
      "cell_type": "markdown",
      "metadata": {
        "id": "bQL5xyRWxNvj"
      },
      "source": [
        "**2.5  Evaluating Expressions**"
      ]
    },
    {
      "cell_type": "code",
      "metadata": {
        "colab": {
          "base_uri": "https://localhost:8080/"
        },
        "id": "Ue6FnamxxWgu",
        "outputId": "66d28e68-94c5-4d84-894c-5a5a4a3143e8"
      },
      "source": [
        "1+1         # simple addition"
      ],
      "execution_count": null,
      "outputs": [
        {
          "output_type": "execute_result",
          "data": {
            "text/plain": [
              "2"
            ]
          },
          "metadata": {},
          "execution_count": 31
        }
      ]
    },
    {
      "cell_type": "code",
      "metadata": {
        "colab": {
          "base_uri": "https://localhost:8080/"
        },
        "id": "iZGAXqUyxeky",
        "outputId": "ef859eaa-cac4-4fa3-95b5-73b774a8bc64"
      },
      "source": [
        "17"
      ],
      "execution_count": null,
      "outputs": [
        {
          "output_type": "execute_result",
          "data": {
            "text/plain": [
              "17"
            ]
          },
          "metadata": {},
          "execution_count": 32
        }
      ]
    },
    {
      "cell_type": "code",
      "metadata": {
        "colab": {
          "base_uri": "https://localhost:8080/"
        },
        "id": "bdnzke0yxgP_",
        "outputId": "97f2661e-de9d-41e0-ada3-78ba4996e103"
      },
      "source": [
        "x"
      ],
      "execution_count": null,
      "outputs": [
        {
          "output_type": "execute_result",
          "data": {
            "text/plain": [
              "2"
            ]
          },
          "metadata": {},
          "execution_count": 33
        }
      ]
    },
    {
      "cell_type": "code",
      "metadata": {
        "colab": {
          "base_uri": "https://localhost:8080/",
          "height": 35
        },
        "id": "-tAa2wq7xk1H",
        "outputId": "9b1ee35e-cec8-47d4-9335-2fa8f00c4a15"
      },
      "source": [
        "message=\"What's Up, Doc?\"\n",
        "message"
      ],
      "execution_count": null,
      "outputs": [
        {
          "output_type": "execute_result",
          "data": {
            "application/vnd.google.colaboratory.intrinsic+json": {
              "type": "string"
            },
            "text/plain": [
              "\"What's Up, Doc?\""
            ]
          },
          "metadata": {},
          "execution_count": 36
        }
      ]
    },
    {
      "cell_type": "code",
      "metadata": {
        "colab": {
          "base_uri": "https://localhost:8080/"
        },
        "id": "cGl-mZDMx0-9",
        "outputId": "113fca81-f722-4da6-8e91-9850a5db5167"
      },
      "source": [
        "print (message)"
      ],
      "execution_count": null,
      "outputs": [
        {
          "output_type": "stream",
          "text": [
            "What's Up, Doc?\n"
          ],
          "name": "stdout"
        }
      ]
    },
    {
      "cell_type": "markdown",
      "metadata": {
        "id": "eFJLZHrax-PR"
      },
      "source": [
        "**2.6  Operators and Operands**"
      ]
    },
    {
      "cell_type": "markdown",
      "metadata": {
        "id": "H5jPhTrB54ge"
      },
      "source": [
        "In Python, operators are special symbols that designate that some sort of computation should be performed. The values that an operator acts on are called operands. A sequence of operands and operators, like a + b - 5 , is called an expression"
      ]
    },
    {
      "cell_type": "code",
      "metadata": {
        "colab": {
          "base_uri": "https://localhost:8080/"
        },
        "id": "W-e71AML5_6m",
        "outputId": "4005904b-1f53-4b64-f6d3-7ecaa086c357"
      },
      "source": [
        "20+32"
      ],
      "execution_count": null,
      "outputs": [
        {
          "output_type": "execute_result",
          "data": {
            "text/plain": [
              "52"
            ]
          },
          "metadata": {},
          "execution_count": 1
        }
      ]
    },
    {
      "cell_type": "code",
      "metadata": {
        "colab": {
          "base_uri": "https://localhost:8080/"
        },
        "id": "j2WaQcmV6FU6",
        "outputId": "88107f61-524e-4fd6-8068-29ffa34397b3"
      },
      "source": [
        "minute=59\n",
        "minute/60"
      ],
      "execution_count": null,
      "outputs": [
        {
          "output_type": "execute_result",
          "data": {
            "text/plain": [
              "0.9833333333333333"
            ]
          },
          "metadata": {},
          "execution_count": 3
        }
      ]
    },
    {
      "cell_type": "code",
      "metadata": {
        "colab": {
          "base_uri": "https://localhost:8080/"
        },
        "id": "W-0G5APs6ynd",
        "outputId": "34faad9f-c814-40ad-8254-c2179f420046"
      },
      "source": [
        "minute*100/60"
      ],
      "execution_count": null,
      "outputs": [
        {
          "output_type": "execute_result",
          "data": {
            "text/plain": [
              "98.33333333333333"
            ]
          },
          "metadata": {},
          "execution_count": 4
        }
      ]
    },
    {
      "cell_type": "markdown",
      "metadata": {
        "id": "IOEM06Sa66DE"
      },
      "source": [
        "**2.7  Order of Operations**"
      ]
    },
    {
      "cell_type": "code",
      "metadata": {
        "colab": {
          "base_uri": "https://localhost:8080/"
        },
        "id": "MbKNCKTD7G0h",
        "outputId": "1b8c2056-6b45-4809-abe5-af7920d8184a"
      },
      "source": [
        "2/3-1"
      ],
      "execution_count": null,
      "outputs": [
        {
          "output_type": "execute_result",
          "data": {
            "text/plain": [
              "-0.33333333333333337"
            ]
          },
          "metadata": {},
          "execution_count": 5
        }
      ]
    },
    {
      "cell_type": "code",
      "metadata": {
        "colab": {
          "base_uri": "https://localhost:8080/"
        },
        "id": "qXDT3GxP7OJ3",
        "outputId": "92d68a45-8634-4d42-c459-ae892839d1e1"
      },
      "source": [
        "2*3-1"
      ],
      "execution_count": null,
      "outputs": [
        {
          "output_type": "execute_result",
          "data": {
            "text/plain": [
              "5"
            ]
          },
          "metadata": {},
          "execution_count": 7
        }
      ]
    },
    {
      "cell_type": "markdown",
      "metadata": {
        "id": "IX2cnYKQ71vy"
      },
      "source": [
        "**2.8  Operations on Strings**"
      ]
    },
    {
      "cell_type": "code",
      "metadata": {
        "colab": {
          "base_uri": "https://localhost:8080/"
        },
        "id": "K5coYPiX78hE",
        "outputId": "3803c4f2-6718-4e92-9035-f2720b42ddee"
      },
      "source": [
        "fruit= \"banana\"\n",
        "bakedGood= \"nut bread\"\n",
        "print (fruit+bakedGood)"
      ],
      "execution_count": null,
      "outputs": [
        {
          "output_type": "stream",
          "text": [
            "banananut bread\n"
          ],
          "name": "stdout"
        }
      ]
    },
    {
      "cell_type": "code",
      "metadata": {
        "colab": {
          "base_uri": "https://localhost:8080/",
          "height": 35
        },
        "id": "BHICSLeJ8t-N",
        "outputId": "766869d3-c858-421d-f898-9def237a6f22"
      },
      "source": [
        "\"fun\"*3"
      ],
      "execution_count": null,
      "outputs": [
        {
          "output_type": "execute_result",
          "data": {
            "application/vnd.google.colaboratory.intrinsic+json": {
              "type": "string"
            },
            "text/plain": [
              "'funfunfun'"
            ]
          },
          "metadata": {},
          "execution_count": 10
        }
      ]
    },
    {
      "cell_type": "markdown",
      "metadata": {
        "id": "pxtL5wUx8-OQ"
      },
      "source": [
        "**2.9  Compositions**"
      ]
    },
    {
      "cell_type": "code",
      "metadata": {
        "colab": {
          "base_uri": "https://localhost:8080/"
        },
        "id": "WRRZ8wGE9DtO",
        "outputId": "d1effb09-1042-40c7-abee-e2351a695731"
      },
      "source": [
        "print (17+3)"
      ],
      "execution_count": null,
      "outputs": [
        {
          "output_type": "stream",
          "text": [
            "20\n"
          ],
          "name": "stdout"
        }
      ]
    },
    {
      "cell_type": "markdown",
      "metadata": {
        "id": "SiJw6r1n9NZy"
      },
      "source": [
        "**2.10  Comments**"
      ]
    },
    {
      "cell_type": "code",
      "metadata": {
        "id": "dug3c7ZB9W5x"
      },
      "source": [
        "percentage= (minute*100)/60         #integer division"
      ],
      "execution_count": null,
      "outputs": []
    },
    {
      "cell_type": "markdown",
      "metadata": {
        "id": "OkHvpXyYjV5F"
      },
      "source": [
        "## **Chapter No 03**\n",
        "**Functions**"
      ]
    },
    {
      "cell_type": "markdown",
      "metadata": {
        "id": "yjIskeBnjvTM"
      },
      "source": [
        "**3.1  Function Calls**"
      ]
    },
    {
      "cell_type": "code",
      "metadata": {
        "id": "u8PR7bMqkSCm"
      },
      "source": [
        ""
      ],
      "execution_count": null,
      "outputs": []
    },
    {
      "cell_type": "markdown",
      "metadata": {
        "id": "Gd6AJs6CpFeb"
      },
      "source": [
        "**3.2  Type Conversion**"
      ]
    },
    {
      "cell_type": "code",
      "metadata": {
        "colab": {
          "base_uri": "https://localhost:8080/"
        },
        "id": "vg5eQAW5pLGQ",
        "outputId": "b0badc8c-b1c8-4067-d228-a1f08ae1fec2"
      },
      "source": [
        "int(\"32\")"
      ],
      "execution_count": null,
      "outputs": [
        {
          "output_type": "execute_result",
          "data": {
            "text/plain": [
              "32"
            ]
          },
          "metadata": {},
          "execution_count": 21
        }
      ]
    },
    {
      "cell_type": "code",
      "metadata": {
        "colab": {
          "base_uri": "https://localhost:8080/",
          "height": 163
        },
        "id": "L_OC3sbLpRWj",
        "outputId": "b698b702-cbbc-413e-c5d2-fd4a73814b64"
      },
      "source": [
        "int(\"Hello\")"
      ],
      "execution_count": null,
      "outputs": [
        {
          "output_type": "error",
          "ename": "ValueError",
          "evalue": "ignored",
          "traceback": [
            "\u001b[0;31m---------------------------------------------------------------------------\u001b[0m",
            "\u001b[0;31mValueError\u001b[0m                                Traceback (most recent call last)",
            "\u001b[0;32m<ipython-input-22-5cdea6865089>\u001b[0m in \u001b[0;36m<module>\u001b[0;34m()\u001b[0m\n\u001b[0;32m----> 1\u001b[0;31m \u001b[0mint\u001b[0m\u001b[0;34m(\u001b[0m\u001b[0;34m\"Hello\"\u001b[0m\u001b[0;34m)\u001b[0m\u001b[0;34m\u001b[0m\u001b[0;34m\u001b[0m\u001b[0m\n\u001b[0m",
            "\u001b[0;31mValueError\u001b[0m: invalid literal for int() with base 10: 'Hello'"
          ]
        }
      ]
    },
    {
      "cell_type": "code",
      "metadata": {
        "colab": {
          "base_uri": "https://localhost:8080/",
          "height": 163
        },
        "id": "U7sEhrTXpZhC",
        "outputId": "3ef4da2c-a9d3-4d7c-9cfa-425611a5a7f4"
      },
      "source": [
        "int(\"3.9999\")"
      ],
      "execution_count": null,
      "outputs": [
        {
          "output_type": "error",
          "ename": "ValueError",
          "evalue": "ignored",
          "traceback": [
            "\u001b[0;31m---------------------------------------------------------------------------\u001b[0m",
            "\u001b[0;31mValueError\u001b[0m                                Traceback (most recent call last)",
            "\u001b[0;32m<ipython-input-81-97e3524693b6>\u001b[0m in \u001b[0;36m<module>\u001b[0;34m()\u001b[0m\n\u001b[0;32m----> 1\u001b[0;31m \u001b[0mint\u001b[0m\u001b[0;34m(\u001b[0m\u001b[0;34m\"3.9999\"\u001b[0m\u001b[0;34m)\u001b[0m\u001b[0;34m\u001b[0m\u001b[0;34m\u001b[0m\u001b[0m\n\u001b[0m",
            "\u001b[0;31mValueError\u001b[0m: invalid literal for int() with base 10: '3.9999'"
          ]
        }
      ]
    },
    {
      "cell_type": "code",
      "metadata": {
        "colab": {
          "base_uri": "https://localhost:8080/"
        },
        "id": "ayU2Os9bphaD",
        "outputId": "e1eba60c-5e44-4c57-9267-db657c93ee0a"
      },
      "source": [
        "float(\"32\")"
      ],
      "execution_count": null,
      "outputs": [
        {
          "output_type": "execute_result",
          "data": {
            "text/plain": [
              "32.0"
            ]
          },
          "metadata": {},
          "execution_count": 24
        }
      ]
    },
    {
      "cell_type": "code",
      "metadata": {
        "colab": {
          "base_uri": "https://localhost:8080/",
          "height": 35
        },
        "id": "9mTjAlYjpo55",
        "outputId": "2d9041c3-4681-4f80-d71d-956df1a8ad36"
      },
      "source": [
        "str(\"32\")"
      ],
      "execution_count": null,
      "outputs": [
        {
          "output_type": "execute_result",
          "data": {
            "application/vnd.google.colaboratory.intrinsic+json": {
              "type": "string"
            },
            "text/plain": [
              "'32'"
            ]
          },
          "metadata": {},
          "execution_count": 25
        }
      ]
    },
    {
      "cell_type": "markdown",
      "metadata": {
        "id": "ozc4yTafptRT"
      },
      "source": [
        "**3.3  Type Correction**"
      ]
    },
    {
      "cell_type": "code",
      "metadata": {
        "colab": {
          "base_uri": "https://localhost:8080/"
        },
        "id": "AVDfeTdqpxb8",
        "outputId": "419cadaa-3022-4fa4-ccbf-0885f28d8b5c"
      },
      "source": [
        "minute=59\n",
        "float(minute)/60"
      ],
      "execution_count": null,
      "outputs": [
        {
          "output_type": "execute_result",
          "data": {
            "text/plain": [
              "0.9833333333333333"
            ]
          },
          "metadata": {},
          "execution_count": 27
        }
      ]
    },
    {
      "cell_type": "code",
      "metadata": {
        "colab": {
          "base_uri": "https://localhost:8080/"
        },
        "id": "PRfXCQbkqCW0",
        "outputId": "096e2b55-6086-4ff6-b6f1-f6ba44743e52"
      },
      "source": [
        "minute=59\n",
        "minute/60.0"
      ],
      "execution_count": null,
      "outputs": [
        {
          "output_type": "execute_result",
          "data": {
            "text/plain": [
              "0.9833333333333333"
            ]
          },
          "metadata": {},
          "execution_count": 28
        }
      ]
    },
    {
      "cell_type": "markdown",
      "metadata": {
        "id": "FWIn7eR5qL1o"
      },
      "source": [
        "**3.4  Math Function**"
      ]
    },
    {
      "cell_type": "code",
      "metadata": {
        "colab": {
          "base_uri": "https://localhost:8080/"
        },
        "id": "_p4s8FEKqP0u",
        "outputId": "79eaedb4-4113-4942-f3a7-fae9448647a3"
      },
      "source": [
        "import math\n",
        "math.sqrt(2)/2.0"
      ],
      "execution_count": null,
      "outputs": [
        {
          "output_type": "execute_result",
          "data": {
            "text/plain": [
              "0.7071067811865476"
            ]
          },
          "metadata": {},
          "execution_count": 30
        }
      ]
    },
    {
      "cell_type": "markdown",
      "metadata": {
        "id": "t3Rp2LSEqkAy"
      },
      "source": [
        "**3.5  Composition**"
      ]
    },
    {
      "cell_type": "code",
      "metadata": {
        "id": "WBVu-j3Aqp4v"
      },
      "source": [
        "angle=1.5\n",
        "pi=3.14\n",
        "x = math.cos(angle+pi/2)"
      ],
      "execution_count": null,
      "outputs": []
    },
    {
      "cell_type": "code",
      "metadata": {
        "id": "QmNUKiPlraQz"
      },
      "source": [
        "x= math.exp(math.log(10.0))"
      ],
      "execution_count": null,
      "outputs": []
    },
    {
      "cell_type": "markdown",
      "metadata": {
        "id": "nkSu6Qxrrl_e"
      },
      "source": [
        "**3.6  Adding new Function**"
      ]
    },
    {
      "cell_type": "code",
      "metadata": {
        "colab": {
          "base_uri": "https://localhost:8080/"
        },
        "id": "f7Jy2FgPr3s4",
        "outputId": "153d9402-0d7b-4736-a77a-998cd1a9c268"
      },
      "source": [
        "def newLine():\n",
        "  print()\n",
        "newLine()"
      ],
      "execution_count": null,
      "outputs": [
        {
          "output_type": "stream",
          "text": [
            "\n"
          ],
          "name": "stdout"
        }
      ]
    },
    {
      "cell_type": "code",
      "metadata": {
        "colab": {
          "base_uri": "https://localhost:8080/"
        },
        "id": "NChHYQ7cuh7i",
        "outputId": "0fa4a444-d67e-44fd-8e35-2cfcd718e213"
      },
      "source": [
        "print(\"First Line\")\n",
        "newLine()\n",
        "print (\"Second Line.\")\n",
        "newLine()"
      ],
      "execution_count": null,
      "outputs": [
        {
          "output_type": "stream",
          "text": [
            "First Line\n",
            "\n",
            "Second Line.\n",
            "\n"
          ],
          "name": "stdout"
        }
      ]
    },
    {
      "cell_type": "code",
      "metadata": {
        "colab": {
          "base_uri": "https://localhost:8080/"
        },
        "id": "9u5plTNQu37L",
        "outputId": "8adc0ea9-0a02-4dc6-db03-e21ad0672678"
      },
      "source": [
        "def threeLines():\n",
        "  newLine()\n",
        "  newLine()\n",
        "  newLine()"
      ],
      "execution_count": null,
      "outputs": [
        {
          "output_type": "stream",
          "text": [
            "Second Line.\n"
          ],
          "name": "stdout"
        }
      ]
    },
    {
      "cell_type": "code",
      "metadata": {
        "colab": {
          "base_uri": "https://localhost:8080/"
        },
        "id": "n1ttmaJ_u-Bw",
        "outputId": "b7d9f7a2-e27c-4415-9057-92837ea69ce4"
      },
      "source": [
        "def newline():\n",
        "  print()\n",
        "def threelines():\n",
        "  newline()\n",
        "  newline()\n",
        "  newline()\n",
        "print(\"First line\")\n",
        "threelines()\n",
        "print(\"second line\")"
      ],
      "execution_count": null,
      "outputs": [
        {
          "output_type": "stream",
          "text": [
            "First line\n",
            "\n",
            "\n",
            "\n",
            "second line\n"
          ],
          "name": "stdout"
        }
      ]
    },
    {
      "cell_type": "markdown",
      "metadata": {
        "id": "THw2W4mUvoH1"
      },
      "source": [
        "**3.7  Definitions and Use**"
      ]
    },
    {
      "cell_type": "code",
      "metadata": {
        "colab": {
          "base_uri": "https://localhost:8080/"
        },
        "id": "yUFKVZJfvwwH",
        "outputId": "8c25cdbf-82e5-46fb-919e-7cf9980d7d0e"
      },
      "source": [
        "def newLine():\n",
        "  print()\n",
        "newLine()"
      ],
      "execution_count": null,
      "outputs": [
        {
          "output_type": "stream",
          "text": [
            "\n"
          ],
          "name": "stdout"
        }
      ]
    },
    {
      "cell_type": "code",
      "metadata": {
        "id": "CqjPAjhHv6To"
      },
      "source": [
        "def threeLines():\n",
        "  newLine()\n",
        "  newLine()\n",
        "  newLine()"
      ],
      "execution_count": null,
      "outputs": []
    },
    {
      "cell_type": "code",
      "metadata": {
        "colab": {
          "base_uri": "https://localhost:8080/"
        },
        "id": "ZUY2h14iv-1g",
        "outputId": "47e0b5b2-4c13-4d6c-ce8b-b9a5fd8a4d2c"
      },
      "source": [
        "print (\"First Line\")\n",
        "threeLines\n",
        "print (\"Second Line.\")"
      ],
      "execution_count": null,
      "outputs": [
        {
          "output_type": "stream",
          "text": [
            "First Line\n",
            "Second Line.\n"
          ],
          "name": "stdout"
        }
      ]
    },
    {
      "cell_type": "markdown",
      "metadata": {
        "id": "JMwIk1W0wDSS"
      },
      "source": [
        "**3.8  Flow of Execution**"
      ]
    },
    {
      "cell_type": "markdown",
      "metadata": {
        "id": "8_zy7HvlwRaE"
      },
      "source": [
        "The flow of execution refers to the order in which statements are executed during a program run. "
      ]
    },
    {
      "cell_type": "markdown",
      "metadata": {
        "id": "Rlt4m2fJwSrU"
      },
      "source": [
        "**3.9  Parameters and Arguments**"
      ]
    },
    {
      "cell_type": "code",
      "metadata": {
        "id": "TsV_gzaLzB_1"
      },
      "source": [
        "def printTwice(bruce):\n",
        "  print(bruce,bruce)"
      ],
      "execution_count": null,
      "outputs": []
    },
    {
      "cell_type": "code",
      "metadata": {
        "colab": {
          "base_uri": "https://localhost:8080/"
        },
        "id": "HcLAkHaZ0ft_",
        "outputId": "d6892483-6d42-4d89-d12c-1b4e4cbc2671"
      },
      "source": [
        "printTwice('Ali')\n",
        "print()"
      ],
      "execution_count": null,
      "outputs": [
        {
          "output_type": "stream",
          "text": [
            "Ali Ali\n",
            "\n"
          ],
          "name": "stdout"
        }
      ]
    },
    {
      "cell_type": "code",
      "metadata": {
        "colab": {
          "base_uri": "https://localhost:8080/"
        },
        "id": "imor6B3a1KjE",
        "outputId": "2ff8e8b6-3a69-4825-a1b7-e6c83cbb614a"
      },
      "source": [
        "printTwice('3.1456')\n",
        "print()"
      ],
      "execution_count": null,
      "outputs": [
        {
          "output_type": "stream",
          "text": [
            "3.1456 3.1456\n",
            "\n"
          ],
          "name": "stdout"
        }
      ]
    },
    {
      "cell_type": "code",
      "metadata": {
        "colab": {
          "base_uri": "https://localhost:8080/"
        },
        "id": "m1rWaUn_1WbY",
        "outputId": "0a26ee9b-1b6a-41cb-9456-927f3cafe17c"
      },
      "source": [
        "printTwice('Ali'*4)\n",
        "print()"
      ],
      "execution_count": null,
      "outputs": [
        {
          "output_type": "stream",
          "text": [
            "AliAliAliAli AliAliAliAli\n",
            "\n"
          ],
          "name": "stdout"
        }
      ]
    },
    {
      "cell_type": "markdown",
      "metadata": {
        "id": "M9z1uWFQyN04"
      },
      "source": [
        "**3.10  Variables and Parameters are Local**"
      ]
    },
    {
      "cell_type": "code",
      "metadata": {
        "colab": {
          "base_uri": "https://localhost:8080/"
        },
        "id": "wVy0LfAkyPok",
        "outputId": "e18f44fc-6fa8-4a6b-dddf-db1dee5c9fb6"
      },
      "source": [
        "def catTwice(part1,part2):\n",
        "  cat=part1 + part2\n",
        "  printTwice(cat)\n",
        "chant1=(\"Pie Jesu domine, \")\n",
        "chant2=(\"Dona eis requiem, \")\n",
        "catTwice(chant1, chant2)"
      ],
      "execution_count": null,
      "outputs": [
        {
          "output_type": "stream",
          "text": [
            "Pie Jesu domine, Dona eis requiem,  Pie Jesu domine, Dona eis requiem, \n"
          ],
          "name": "stdout"
        }
      ]
    },
    {
      "cell_type": "markdown",
      "metadata": {
        "id": "nC0A0BzP7Of0"
      },
      "source": [
        "## **Chapter No 04**"
      ]
    },
    {
      "cell_type": "markdown",
      "metadata": {
        "id": "raukBqzY7UMt"
      },
      "source": [
        "**4.1  The Modulus Operator**"
      ]
    },
    {
      "cell_type": "code",
      "metadata": {
        "colab": {
          "base_uri": "https://localhost:8080/"
        },
        "id": "5yy6N71S8oW-",
        "outputId": "fa1d5f8f-227b-4c0c-f0d4-c1fc94adbe01"
      },
      "source": [
        "quotient=7/3\n",
        "print (quotient)"
      ],
      "execution_count": null,
      "outputs": [
        {
          "output_type": "stream",
          "text": [
            "2.3333333333333335\n"
          ],
          "name": "stdout"
        }
      ]
    },
    {
      "cell_type": "code",
      "metadata": {
        "colab": {
          "base_uri": "https://localhost:8080/"
        },
        "id": "oIVaFCfP9cAA",
        "outputId": "a1918cab-3451-4a98-8865-10cc5da6c1a1"
      },
      "source": [
        "remainder= 7%3\n",
        "print (remainder)"
      ],
      "execution_count": null,
      "outputs": [
        {
          "output_type": "stream",
          "text": [
            "1\n"
          ],
          "name": "stdout"
        }
      ]
    },
    {
      "cell_type": "markdown",
      "metadata": {
        "id": "hr3qHC_M7ewt"
      },
      "source": [
        "**4.2  Boolean Expressions**"
      ]
    },
    {
      "cell_type": "code",
      "metadata": {
        "colab": {
          "base_uri": "https://localhost:8080/"
        },
        "id": "fnQ8tKGD9nwO",
        "outputId": "52f12f14-6509-4554-8f95-d1186aaecff1"
      },
      "source": [
        "5==5"
      ],
      "execution_count": null,
      "outputs": [
        {
          "output_type": "execute_result",
          "data": {
            "text/plain": [
              "True"
            ]
          },
          "metadata": {},
          "execution_count": 112
        }
      ]
    },
    {
      "cell_type": "code",
      "metadata": {
        "colab": {
          "base_uri": "https://localhost:8080/"
        },
        "id": "Z1zTNp7v9r57",
        "outputId": "b55e17f6-1125-48eb-b4c9-623946ae5547"
      },
      "source": [
        "5==6"
      ],
      "execution_count": null,
      "outputs": [
        {
          "output_type": "execute_result",
          "data": {
            "text/plain": [
              "False"
            ]
          },
          "metadata": {},
          "execution_count": 113
        }
      ]
    },
    {
      "cell_type": "markdown",
      "metadata": {
        "id": "GkpWlIm9768A"
      },
      "source": [
        "**4.3  Logical Operators**"
      ]
    },
    {
      "cell_type": "code",
      "metadata": {
        "colab": {
          "base_uri": "https://localhost:8080/"
        },
        "id": "LHJle54G9wMC",
        "outputId": "5e5c1e4e-e165-40a3-80ba-7927ace56783"
      },
      "source": [
        "x=5\n",
        "x and 1"
      ],
      "execution_count": null,
      "outputs": [
        {
          "output_type": "execute_result",
          "data": {
            "text/plain": [
              "1"
            ]
          },
          "metadata": {},
          "execution_count": 115
        }
      ]
    },
    {
      "cell_type": "code",
      "metadata": {
        "colab": {
          "base_uri": "https://localhost:8080/"
        },
        "id": "UAxCL8GM952b",
        "outputId": "e3da7a4c-31a0-4476-822c-299eaec2291d"
      },
      "source": [
        "y=0\n",
        "y and 1"
      ],
      "execution_count": null,
      "outputs": [
        {
          "output_type": "execute_result",
          "data": {
            "text/plain": [
              "0"
            ]
          },
          "metadata": {},
          "execution_count": 116
        }
      ]
    },
    {
      "cell_type": "markdown",
      "metadata": {
        "id": "HJ7gjfSA8AHE"
      },
      "source": [
        "**4.4  Conditional Execution**"
      ]
    },
    {
      "cell_type": "code",
      "metadata": {
        "colab": {
          "base_uri": "https://localhost:8080/"
        },
        "id": "3U_SPe-_-A_9",
        "outputId": "ae0f4d72-5de4-40fe-91b5-dee6e51f2e72"
      },
      "source": [
        "if x > 0 :\n",
        "  print (x is 'positive')"
      ],
      "execution_count": null,
      "outputs": [
        {
          "output_type": "stream",
          "text": [
            "False\n"
          ],
          "name": "stdout"
        }
      ]
    },
    {
      "cell_type": "markdown",
      "metadata": {
        "id": "UEbGFBEU8Iv9"
      },
      "source": [
        "**4.5  Alternative Execution**"
      ]
    },
    {
      "cell_type": "code",
      "metadata": {
        "colab": {
          "base_uri": "https://localhost:8080/"
        },
        "id": "MfJCbzrG9Ecm",
        "outputId": "257b662d-ec34-4ee5-f9e4-d3145a32304a"
      },
      "source": [
        "num = int(input(\"Enter a number: \"))\n",
        "if (num % 2) == 0:\n",
        " print(\"{0} is Even number\". format(num))\n",
        "else:\n",
        " print(\"{0} is Odd number\". format(num))"
      ],
      "execution_count": null,
      "outputs": [
        {
          "output_type": "stream",
          "text": [
            "Enter a number: 12\n",
            "12 is Even number\n"
          ],
          "name": "stdout"
        }
      ]
    },
    {
      "cell_type": "markdown",
      "metadata": {
        "id": "zx59iGxc8O8K"
      },
      "source": [
        "**4.6  Chained Conditionals**"
      ]
    },
    {
      "cell_type": "code",
      "metadata": {
        "colab": {
          "base_uri": "https://localhost:8080/"
        },
        "id": "ewYAelCx-TL4",
        "outputId": "9b928ac5-1fff-49e7-c769-f5dd0cfc61e7"
      },
      "source": [
        "x = int(input(\"Enter a number x:\"))\n",
        "y = int(input(\"Enter a number y: \"))\n",
        "if x< y:\n",
        "  print(\"x,is less then,y\".format(x))\n",
        "elif x> y:\n",
        "  print(\"x,is greater than, y\".format(y))\n",
        "else:\n",
        "  print(\"x,and,y,are equal\")"
      ],
      "execution_count": null,
      "outputs": [
        {
          "output_type": "stream",
          "text": [
            "Enter a number x:4\n",
            "Enter a number y: 5\n",
            "x,is less then,y\n"
          ],
          "name": "stdout"
        }
      ]
    },
    {
      "cell_type": "markdown",
      "metadata": {
        "id": "iZQx4sHW8TA5"
      },
      "source": [
        "**4.7  Nesteded Conditionals**"
      ]
    },
    {
      "cell_type": "code",
      "metadata": {
        "colab": {
          "base_uri": "https://localhost:8080/"
        },
        "id": "9vvMoIK6APLw",
        "outputId": "d837d594-a8d2-436f-cf46-43f0352b5071"
      },
      "source": [
        "x = int(input(\"Enter the value of  x=\"))\n",
        "y = int(input(\"Enter the value of  y=\"))\n",
        "if x==y:\n",
        "  print(x,\"and\",y,\"are equal\".format(x))\n",
        "else:\n",
        "  if x< y:\n",
        "    print(\"x,is less than, y\".format(y))\n",
        "  else:\n",
        "    print(\"x, is greater than,y\")"
      ],
      "execution_count": null,
      "outputs": [
        {
          "output_type": "stream",
          "text": [
            "Enter the value of  x=7\n",
            "Enter the value of  y=6\n",
            "x, is greater than,y\n"
          ],
          "name": "stdout"
        }
      ]
    },
    {
      "cell_type": "markdown",
      "metadata": {
        "id": "-5sr_wSq8cT9"
      },
      "source": [
        "**4.8  The Return Statement**"
      ]
    },
    {
      "cell_type": "code",
      "metadata": {
        "id": "WtjuKBTX-zmF"
      },
      "source": [
        "import math\n",
        "def printLogarithm(x):\n",
        "  if x<= 0:\n",
        "    print ('positive numbers only, Please.')\n",
        "    return"
      ],
      "execution_count": null,
      "outputs": []
    },
    {
      "cell_type": "code",
      "metadata": {
        "colab": {
          "base_uri": "https://localhost:8080/"
        },
        "id": "6pdd2AU1DgEx",
        "outputId": "d8acec09-01c4-42bb-be45-5692d8e10f62"
      },
      "source": [
        "result=math.log(x)\n",
        "print ('The log of x is =', result)"
      ],
      "execution_count": null,
      "outputs": [
        {
          "output_type": "stream",
          "text": [
            "The log of x is = 1.9459101490553132\n"
          ],
          "name": "stdout"
        }
      ]
    },
    {
      "cell_type": "markdown",
      "metadata": {
        "id": "qiTqJfOJ8jgU"
      },
      "source": [
        "**4.9  Recursion**"
      ]
    },
    {
      "cell_type": "code",
      "metadata": {
        "id": "4As9UCadArlB"
      },
      "source": [
        "def countdown(n):\n",
        "  if n== 0:\n",
        "    print ('Stop')\n",
        "  else:\n",
        "    print(n)\n",
        "    countdown(n-1)"
      ],
      "execution_count": null,
      "outputs": []
    },
    {
      "cell_type": "code",
      "metadata": {
        "colab": {
          "base_uri": "https://localhost:8080/"
        },
        "id": "8hkSW-DIDFZ0",
        "outputId": "da07549a-d4a8-4cbb-bd51-67f0c3d52c28"
      },
      "source": [
        "    countdown(3)"
      ],
      "execution_count": null,
      "outputs": [
        {
          "output_type": "stream",
          "text": [
            "3\n",
            "2\n",
            "1\n",
            "Stop\n"
          ],
          "name": "stdout"
        }
      ]
    },
    {
      "cell_type": "markdown",
      "metadata": {
        "id": "M_x7q1vqE9lH"
      },
      "source": [
        "**4.11  Infinite Recursion**"
      ]
    },
    {
      "cell_type": "code",
      "metadata": {
        "id": "kkLONDOOFZ4w"
      },
      "source": [
        "def recurse():\n",
        "  recurse()"
      ],
      "execution_count": null,
      "outputs": []
    },
    {
      "cell_type": "markdown",
      "metadata": {
        "id": "GpEjhooZGBQy"
      },
      "source": [
        "**4.12  Keyboard Input**"
      ]
    },
    {
      "cell_type": "code",
      "metadata": {
        "id": "sKA5yV6oFCbb"
      },
      "source": [
        "import sys\n",
        "def raw_input():\n",
        "  print()"
      ],
      "execution_count": null,
      "outputs": []
    },
    {
      "cell_type": "markdown",
      "metadata": {
        "id": "Xs3WBfh3J3Y_"
      },
      "source": [
        "## **Chapter No 05**\n",
        "**Fruitful Functions**"
      ]
    },
    {
      "cell_type": "markdown",
      "metadata": {
        "id": "-NKyHZacKCcr"
      },
      "source": [
        "**5.1  Return Values**"
      ]
    },
    {
      "cell_type": "code",
      "metadata": {
        "id": "9sBuMU-y26mT"
      },
      "source": [
        "biggest = max(3, 7, 2, 5)\n",
        "x = abs(3 - 11) + 10"
      ],
      "execution_count": null,
      "outputs": []
    },
    {
      "cell_type": "code",
      "metadata": {
        "id": "XZvctdEz29Z3"
      },
      "source": [
        "def area(radius):\n",
        "    temp = 3.14159 * radius**2\n",
        "    return temp"
      ],
      "execution_count": null,
      "outputs": []
    },
    {
      "cell_type": "code",
      "metadata": {
        "id": "b8sIqY3B3APc"
      },
      "source": [
        "def area(radius):\n",
        "    return 3.14159 * radius**2"
      ],
      "execution_count": null,
      "outputs": []
    },
    {
      "cell_type": "code",
      "metadata": {
        "id": "KRS9klQp3EHG"
      },
      "source": [
        "def absolute_value(x):\n",
        "    if x < 0:\n",
        "        return -x\n",
        "    else:\n",
        "        return x"
      ],
      "execution_count": null,
      "outputs": []
    },
    {
      "cell_type": "code",
      "metadata": {
        "id": "GWggc5Jy3HKb"
      },
      "source": [
        "def absolute_value(x):\n",
        "    if x < 0:\n",
        "        return -x\n",
        "    return x"
      ],
      "execution_count": null,
      "outputs": []
    },
    {
      "cell_type": "code",
      "metadata": {
        "id": "MYu-r6973J3o"
      },
      "source": [
        "def absolute_value(x):\n",
        "    if x < 0:\n",
        "        return -x\n",
        "    elif x > 0:\n",
        "        return x"
      ],
      "execution_count": null,
      "outputs": []
    },
    {
      "cell_type": "code",
      "metadata": {
        "colab": {
          "base_uri": "https://localhost:8080/"
        },
        "id": "ZJTS1NXy3M8D",
        "outputId": "e4c37d51-7eaf-46bc-e5fe-b6626c9940b3"
      },
      "source": [
        "print (absolute_value(0))"
      ],
      "execution_count": null,
      "outputs": [
        {
          "output_type": "stream",
          "text": [
            "None\n"
          ],
          "name": "stdout"
        }
      ]
    },
    {
      "cell_type": "code",
      "metadata": {
        "colab": {
          "base_uri": "https://localhost:8080/"
        },
        "id": "DGXiN_2s3S1L",
        "outputId": "f2b3d639-e1ae-4abd-ff69-40c4aaff0cfa"
      },
      "source": [
        "type(None)"
      ],
      "execution_count": null,
      "outputs": [
        {
          "output_type": "execute_result",
          "data": {
            "text/plain": [
              "NoneType"
            ]
          },
          "metadata": {},
          "execution_count": 224
        }
      ]
    },
    {
      "cell_type": "markdown",
      "metadata": {
        "id": "sNAVIB_7KOPh"
      },
      "source": [
        "**5.2  Program Development**"
      ]
    },
    {
      "cell_type": "code",
      "metadata": {
        "id": "wm2zxlQO1uag"
      },
      "source": [
        "def distance(x1, y1, x2, y2):\n",
        "    return 0.0"
      ],
      "execution_count": null,
      "outputs": []
    },
    {
      "cell_type": "code",
      "metadata": {
        "colab": {
          "base_uri": "https://localhost:8080/"
        },
        "id": "Witutrpe1yN8",
        "outputId": "0e232fa9-6e44-44bb-da25-e47b9860363c"
      },
      "source": [
        "distance(1, 2, 4, 6)"
      ],
      "execution_count": null,
      "outputs": [
        {
          "output_type": "execute_result",
          "data": {
            "text/plain": [
              "0.0"
            ]
          },
          "metadata": {},
          "execution_count": 206
        }
      ]
    },
    {
      "cell_type": "code",
      "metadata": {
        "id": "EJJ-3MOf11vH"
      },
      "source": [
        "def distance(x1, y1, x2, y2):\n",
        "    dx = x2 - x1\n",
        "    dy = y2 - y1\n",
        "    print ('dx is', dx)\n",
        "    print ('dy is', dy)\n",
        "    return 0.0"
      ],
      "execution_count": null,
      "outputs": []
    },
    {
      "cell_type": "code",
      "metadata": {
        "id": "L4d32BV42Ixo"
      },
      "source": [
        "def distance(x1, y1, x2, y2):\n",
        "    dx = x2 - x1\n",
        "    dy = y2 - y1\n",
        "    dsquared = dx**2 + dy**2\n",
        "    print (\"dsquared is: \", dsquared)\n",
        "    return 0.0"
      ],
      "execution_count": null,
      "outputs": []
    },
    {
      "cell_type": "code",
      "metadata": {
        "id": "6Myvpi1i2R8v"
      },
      "source": [
        "def distance(x1, y1, x2, y2):\n",
        "    dx = x2 - x1\n",
        "    dy = y2 - y1\n",
        "    dsquared = dx**2 + dy**2\n",
        "    result = dsquared**0.5\n",
        "    return result"
      ],
      "execution_count": null,
      "outputs": []
    },
    {
      "cell_type": "markdown",
      "metadata": {
        "id": "b2dAMyZBKVNe"
      },
      "source": [
        "**5.3  Composition**"
      ]
    },
    {
      "cell_type": "code",
      "metadata": {
        "colab": {
          "base_uri": "https://localhost:8080/"
        },
        "id": "2ERTiLIdWNfO",
        "outputId": "eceddf18-b27f-4fe6-90a1-a03a39050f58"
      },
      "source": [
        "import math\n",
        "def distance(x1, y1, x2, y2):\n",
        "  dx= x2- x1\n",
        "  dy= y2-y1\n",
        "  dsquared= dx**2 + dy**2\n",
        "  #print(\"dsquared is \", dsquared)\n",
        "  result = math.sqrt(dsquared)\n",
        "  return result\n",
        "def area2(xc, yc, xp, yp):\n",
        "  radius= distance(xc, yc, xp, yp)\n",
        "  result = area(radius)\n",
        "  return result\n",
        "def area(radius):\n",
        "  temp=\"area of the circle is: \", math.pi*radius**2\n",
        "  return temp\n",
        "area2(1, 2, 3, 4)"
      ],
      "execution_count": null,
      "outputs": [
        {
          "output_type": "execute_result",
          "data": {
            "text/plain": [
              "('area of the circle is: ', 25.132741228718352)"
            ]
          },
          "metadata": {},
          "execution_count": 7
        }
      ]
    },
    {
      "cell_type": "code",
      "metadata": {
        "id": "o5rO8umS5q2S"
      },
      "source": [
        "def area2(xc,yc,xp,yp):\n",
        "  radius=distance(xc,yc,xp,yp)\n",
        "  result=area(radius)\n",
        "  return result"
      ],
      "execution_count": null,
      "outputs": []
    },
    {
      "cell_type": "code",
      "metadata": {
        "id": "ppleAIVd5fc0"
      },
      "source": [
        "def area2(xc, yc, xp, yp):\n",
        "    radius = distance(xc, yc, xp, yp)\n",
        "    result = area(radius)\n",
        "    return result"
      ],
      "execution_count": null,
      "outputs": []
    },
    {
      "cell_type": "code",
      "metadata": {
        "id": "9Ssu27Ti5lxl"
      },
      "source": [
        "def area2(xc, yc, xp, yp):\n",
        "    return area(distance(xc, yc, xp, yp))"
      ],
      "execution_count": null,
      "outputs": []
    },
    {
      "cell_type": "markdown",
      "metadata": {
        "id": "CCPDt6XmKhDW"
      },
      "source": [
        "**5.4  Boolean Functions**"
      ]
    },
    {
      "cell_type": "code",
      "metadata": {
        "id": "-mx0nUk46vk8"
      },
      "source": [
        "def is_divisible(x, y):\n",
        "    if x % y == 0:\n",
        "        return True\n",
        "    else:\n",
        "        return False"
      ],
      "execution_count": null,
      "outputs": []
    },
    {
      "cell_type": "code",
      "metadata": {
        "id": "-hNvqPT26md6"
      },
      "source": [
        "def is_divisible(x, y):\n",
        "    return x % y == 0"
      ],
      "execution_count": null,
      "outputs": []
    },
    {
      "cell_type": "code",
      "metadata": {
        "colab": {
          "base_uri": "https://localhost:8080/"
        },
        "id": "gW4bHFou7rXo",
        "outputId": "82d56e9c-de12-4c58-e97d-8e01c3be8fb5"
      },
      "source": [
        "is_divisible(6, 4)"
      ],
      "execution_count": null,
      "outputs": [
        {
          "output_type": "execute_result",
          "data": {
            "text/plain": [
              "False"
            ]
          },
          "metadata": {},
          "execution_count": 252
        }
      ]
    },
    {
      "cell_type": "code",
      "metadata": {
        "colab": {
          "base_uri": "https://localhost:8080/"
        },
        "id": "rzuodw6q7vtI",
        "outputId": "a13526cb-924d-4b97-c10b-0b291ee01960"
      },
      "source": [
        "is_divisible(6, 3)"
      ],
      "execution_count": null,
      "outputs": [
        {
          "output_type": "execute_result",
          "data": {
            "text/plain": [
              "True"
            ]
          },
          "metadata": {},
          "execution_count": 253
        }
      ]
    },
    {
      "cell_type": "code",
      "metadata": {
        "colab": {
          "base_uri": "https://localhost:8080/"
        },
        "id": "u8XMbdVm7z_f",
        "outputId": "7fce56fd-2279-4bd8-d495-7ce1ce30b443"
      },
      "source": [
        "if is_divisible(x, y):\n",
        "    print (\"x is divisible by y\")\n",
        "else:\n",
        "    print (\"x is not divisible by y\")"
      ],
      "execution_count": null,
      "outputs": [
        {
          "output_type": "stream",
          "text": [
            "x is divisible by y\n"
          ],
          "name": "stdout"
        }
      ]
    },
    {
      "cell_type": "code",
      "metadata": {
        "colab": {
          "base_uri": "https://localhost:8080/"
        },
        "id": "9bdjhebPXNqb",
        "outputId": "fedc6f66-61f9-44a1-b442-28b0db81bcdf"
      },
      "source": [
        "#book exercise\n",
        "def inbetween(x, y, z):\n",
        "  if x<=y<=z :\n",
        "    return 1\n",
        "  else :\n",
        "    return 0\n",
        "inbetween(1, 4, 3)"
      ],
      "execution_count": null,
      "outputs": [
        {
          "output_type": "execute_result",
          "data": {
            "text/plain": [
              "0"
            ]
          },
          "metadata": {},
          "execution_count": 13
        }
      ]
    },
    {
      "cell_type": "markdown",
      "metadata": {
        "id": "peHJbJWmKor4"
      },
      "source": [
        "**5.5  More Recursions**"
      ]
    },
    {
      "cell_type": "code",
      "metadata": {
        "colab": {
          "base_uri": "https://localhost:8080/"
        },
        "id": "0J4Gm_cAWeqU",
        "outputId": "e122c33a-3a95-4292-8b4c-40aaea81846c"
      },
      "source": [
        "def factorial(n):\n",
        "  if n==0:\n",
        "    return 1\n",
        "  else :\n",
        "    recurse= factorial(n-1)\n",
        "    result= n*recurse\n",
        "    return result\n",
        "factorial(5)"
      ],
      "execution_count": null,
      "outputs": [
        {
          "output_type": "execute_result",
          "data": {
            "text/plain": [
              "120"
            ]
          },
          "metadata": {},
          "execution_count": 9
        }
      ]
    },
    {
      "cell_type": "markdown",
      "metadata": {
        "id": "P8GnhzxVLRJR"
      },
      "source": [
        "**5.7  One More Example**"
      ]
    },
    {
      "cell_type": "code",
      "metadata": {
        "colab": {
          "base_uri": "https://localhost:8080/"
        },
        "id": "1R7KpkfnWqQN",
        "outputId": "07c5535b-9253-481d-e425-4b5c8ba15a9c"
      },
      "source": [
        "def fibonacci(n):\n",
        "  if n==0 or n==1:\n",
        "    return 1\n",
        "  else:\n",
        "    return fibonacci(n-1) + fibonacci(n-2)\n",
        "\n",
        "fibonacci(5)"
      ],
      "execution_count": null,
      "outputs": [
        {
          "output_type": "execute_result",
          "data": {
            "text/plain": [
              "8"
            ]
          },
          "metadata": {},
          "execution_count": 16
        }
      ]
    },
    {
      "cell_type": "markdown",
      "metadata": {
        "id": "txzHQSB-XhAW"
      },
      "source": [
        "**5.8  Checking Types**"
      ]
    },
    {
      "cell_type": "code",
      "metadata": {
        "colab": {
          "base_uri": "https://localhost:8080/"
        },
        "id": "q4CmjHauXgeV",
        "outputId": "511a0fbc-c1b3-4b1d-90e9-a83afcab785b"
      },
      "source": [
        "def factorial(n):\n",
        "  if type(n) != type(1):\n",
        "    print(\"Factorial is only defined for integers \")\n",
        "    return -1\n",
        "  elif n<0 :\n",
        "    print(\"Factorial is only defined for positive integers\")\n",
        "    return -1\n",
        "  elif n==0:\n",
        "    return 1\n",
        "  else :\n",
        "    return n*factorial(n-1)\n",
        "\n",
        "factorial(-4.0)"
      ],
      "execution_count": null,
      "outputs": [
        {
          "output_type": "stream",
          "text": [
            "Factorial is only defined for integers \n"
          ],
          "name": "stdout"
        },
        {
          "output_type": "execute_result",
          "data": {
            "text/plain": [
              "-1"
            ]
          },
          "metadata": {},
          "execution_count": 15
        }
      ]
    },
    {
      "cell_type": "markdown",
      "metadata": {
        "id": "R2RA9rDrLZvG"
      },
      "source": [
        "## **Chapter No 06**\n",
        "**Iteraions**"
      ]
    },
    {
      "cell_type": "markdown",
      "metadata": {
        "id": "HQymJMnbLf-w"
      },
      "source": [
        "**6.1  Multiple Assignment**"
      ]
    },
    {
      "cell_type": "code",
      "metadata": {
        "colab": {
          "base_uri": "https://localhost:8080/"
        },
        "id": "-OEb0IEuTBi_",
        "outputId": "46df0380-acd1-4e7e-d55c-6face3d9a4e1"
      },
      "source": [
        "Ali=5\n",
        "print(Ali)"
      ],
      "execution_count": null,
      "outputs": [
        {
          "output_type": "stream",
          "text": [
            "5\n"
          ],
          "name": "stdout"
        }
      ]
    },
    {
      "cell_type": "code",
      "metadata": {
        "colab": {
          "base_uri": "https://localhost:8080/"
        },
        "id": "ebJwdNIHTMjq",
        "outputId": "1c2c6e17-ba11-4b82-f621-cf25917f7e93"
      },
      "source": [
        "Ali=7\n",
        "print(Ali)"
      ],
      "execution_count": null,
      "outputs": [
        {
          "output_type": "stream",
          "text": [
            "7\n"
          ],
          "name": "stdout"
        }
      ]
    },
    {
      "cell_type": "code",
      "metadata": {
        "id": "vWdQpf0DTeK8"
      },
      "source": [
        "a=5\n",
        "b=a         # a and b are now equal\n",
        "a=3         # a and b are no longer equal"
      ],
      "execution_count": null,
      "outputs": []
    },
    {
      "cell_type": "markdown",
      "metadata": {
        "id": "-5ksLR3SLn_n"
      },
      "source": [
        "**6.2  The While Statement**"
      ]
    },
    {
      "cell_type": "code",
      "metadata": {
        "colab": {
          "base_uri": "https://localhost:8080/"
        },
        "id": "LSfUX7M0T1IZ",
        "outputId": "788a9464-a070-4db3-8091-3e564c9b4219"
      },
      "source": [
        "def countdown(n):\n",
        "  while n>0 :\n",
        "    print (n)\n",
        "    n = n-1\n",
        "print ('Stop')"
      ],
      "execution_count": null,
      "outputs": [
        {
          "output_type": "stream",
          "text": [
            "Stop\n"
          ],
          "name": "stdout"
        }
      ]
    },
    {
      "cell_type": "markdown",
      "metadata": {
        "id": "xn46YioGLtnD"
      },
      "source": [
        "**6.3  Tables**"
      ]
    },
    {
      "cell_type": "code",
      "metadata": {
        "colab": {
          "base_uri": "https://localhost:8080/"
        },
        "id": "86eApWyfUnqP",
        "outputId": "3c93c2af-da2a-4a3c-dd76-b32837112707"
      },
      "source": [
        "x=1.0\n",
        "while x<10.0:\n",
        "  print (x,'\\t',math.log(x))\n",
        "  x=x+1.0"
      ],
      "execution_count": null,
      "outputs": [
        {
          "output_type": "stream",
          "text": [
            "1.0 \t 0.0\n",
            "2.0 \t 0.6931471805599453\n",
            "3.0 \t 1.0986122886681098\n",
            "4.0 \t 1.3862943611198906\n",
            "5.0 \t 1.6094379124341003\n",
            "6.0 \t 1.791759469228055\n",
            "7.0 \t 1.9459101490553132\n",
            "8.0 \t 2.0794415416798357\n",
            "9.0 \t 2.1972245773362196\n"
          ],
          "name": "stdout"
        }
      ]
    },
    {
      "cell_type": "code",
      "metadata": {
        "colab": {
          "base_uri": "https://localhost:8080/"
        },
        "id": "ZuXcDQs5VSRE",
        "outputId": "9630417f-9588-448c-ecb3-d93c149d04c8"
      },
      "source": [
        "  print (x,'\\t',math.log(x)/math.log(2.0))"
      ],
      "execution_count": null,
      "outputs": [
        {
          "output_type": "stream",
          "text": [
            "10.0 \t 3.3219280948873626\n"
          ],
          "name": "stdout"
        }
      ]
    },
    {
      "cell_type": "code",
      "metadata": {
        "colab": {
          "base_uri": "https://localhost:8080/"
        },
        "id": "GjYxUloJVzIh",
        "outputId": "ffbe9672-0c07-4c93-fd0d-7dee9dcdffcf"
      },
      "source": [
        "x=1.0\n",
        "while x<100.0:\n",
        "  print (x,'\\t',math.log(x)/math.log(2.0))\n",
        "  x=x*2.0"
      ],
      "execution_count": null,
      "outputs": [
        {
          "output_type": "stream",
          "text": [
            "1.0 \t 0.0\n",
            "2.0 \t 1.0\n",
            "4.0 \t 2.0\n",
            "8.0 \t 3.0\n",
            "16.0 \t 4.0\n",
            "32.0 \t 5.0\n",
            "64.0 \t 6.0\n"
          ],
          "name": "stdout"
        }
      ]
    },
    {
      "cell_type": "markdown",
      "metadata": {
        "id": "0HU7GERHLx-X"
      },
      "source": [
        "**6.4  Two Dimension Tables**"
      ]
    },
    {
      "cell_type": "code",
      "metadata": {
        "colab": {
          "base_uri": "https://localhost:8080/"
        },
        "id": "5q52KJ3VWFK_",
        "outputId": "1443dd10-977d-40fb-d98f-d5fd4a8bfe54"
      },
      "source": [
        "i=1\n",
        "while i<=6:\n",
        "  print (2*i,'')\n",
        "  i=i+1\n",
        "  print()"
      ],
      "execution_count": null,
      "outputs": [
        {
          "output_type": "stream",
          "text": [
            "2 \n",
            "\n",
            "4 \n",
            "\n",
            "6 \n",
            "\n",
            "8 \n",
            "\n",
            "10 \n",
            "\n",
            "12 \n",
            "\n"
          ],
          "name": "stdout"
        }
      ]
    },
    {
      "cell_type": "markdown",
      "metadata": {
        "id": "oj0UvkPGL1WL"
      },
      "source": [
        "**6.5  Encapsulation and Generalization**"
      ]
    },
    {
      "cell_type": "code",
      "metadata": {
        "id": "_HkR5WW3Wqww"
      },
      "source": [
        "def printMultiples(n):\n",
        "  i=1\n",
        "  while i<=10:\n",
        "    print(n*i),'/t',\n",
        "    i=i+1\n",
        "    print()"
      ],
      "execution_count": null,
      "outputs": []
    },
    {
      "cell_type": "code",
      "metadata": {
        "colab": {
          "base_uri": "https://localhost:8080/"
        },
        "id": "Wzgz88hWYdyd",
        "outputId": "95023aab-e2da-43cb-db2b-dc4b882f6ac3"
      },
      "source": [
        "print(\"First Table\")\n",
        "printMultiples(6)\n",
        "'\\t'\n",
        "'\\t'\n",
        "print(\"Second Table\")\n",
        "printMultiples(4)\n",
        "'\\t'\n",
        "'\\t'\n",
        "print(\"Third Table\")\n",
        "printMultiples(3)"
      ],
      "execution_count": null,
      "outputs": [
        {
          "output_type": "stream",
          "text": [
            "First Table\n",
            "6\n",
            "\n",
            "12\n",
            "\n",
            "18\n",
            "\n",
            "24\n",
            "\n",
            "30\n",
            "\n",
            "36\n",
            "\n",
            "42\n",
            "\n",
            "48\n",
            "\n",
            "54\n",
            "\n",
            "60\n",
            "\n",
            "Second Table\n",
            "4\n",
            "\n",
            "8\n",
            "\n",
            "12\n",
            "\n",
            "16\n",
            "\n",
            "20\n",
            "\n",
            "24\n",
            "\n",
            "28\n",
            "\n",
            "32\n",
            "\n",
            "36\n",
            "\n",
            "40\n",
            "\n",
            "Third Table\n",
            "3\n",
            "\n",
            "6\n",
            "\n",
            "9\n",
            "\n",
            "12\n",
            "\n",
            "15\n",
            "\n",
            "18\n",
            "\n",
            "21\n",
            "\n",
            "24\n",
            "\n",
            "27\n",
            "\n",
            "30\n",
            "\n"
          ],
          "name": "stdout"
        }
      ]
    },
    {
      "cell_type": "code",
      "metadata": {
        "colab": {
          "base_uri": "https://localhost:8080/"
        },
        "id": "tmDRwmsyZBsd",
        "outputId": "a7428fc4-a538-43d2-c86d-08c8a7a18ef8"
      },
      "source": [
        "i=1\n",
        "while i <=6:\n",
        "  print (i)\n",
        "  i= i+1"
      ],
      "execution_count": null,
      "outputs": [
        {
          "output_type": "stream",
          "text": [
            "1\n",
            "2\n",
            "3\n",
            "4\n",
            "5\n",
            "6\n"
          ],
          "name": "stdout"
        }
      ]
    },
    {
      "cell_type": "markdown",
      "metadata": {
        "id": "uGsRx9sMMEg4"
      },
      "source": [
        "**6.6  More Encapsulation**"
      ]
    },
    {
      "cell_type": "code",
      "metadata": {
        "id": "InJukiwiZrJQ"
      },
      "source": [
        "def printMultiples(n):\n",
        "    i=1\n",
        "    while i <=6:\n",
        "      printMultiples (i)\n",
        "      i= i+1"
      ],
      "execution_count": null,
      "outputs": []
    },
    {
      "cell_type": "markdown",
      "metadata": {
        "id": "1EkO7AIWMY-8"
      },
      "source": [
        "**6.7  Local Variables**"
      ]
    },
    {
      "cell_type": "code",
      "metadata": {
        "id": "ZncxZqnsgJ82"
      },
      "source": [
        "def printMultiples(n):\n",
        "    i=1\n",
        "    while i <=6:\n",
        "      printMultiples (i)\n",
        "      i= i+1"
      ],
      "execution_count": null,
      "outputs": []
    },
    {
      "cell_type": "markdown",
      "metadata": {
        "id": "Puho97hzMOEu"
      },
      "source": [
        "**6.8  More Generalization**"
      ]
    },
    {
      "cell_type": "code",
      "metadata": {
        "id": "ixBeW3r0gOuu"
      },
      "source": [
        "def printMultTable(high):\n",
        "    i=1\n",
        "    while i <=high:\n",
        "      printMultiples(i)\n",
        "      i= i + 1"
      ],
      "execution_count": null,
      "outputs": []
    },
    {
      "cell_type": "code",
      "metadata": {
        "colab": {
          "base_uri": "https://localhost:8080/"
        },
        "id": "eXbC5-qDZecp",
        "outputId": "c11deddc-06cb-4b39-803a-99fb6945c90a"
      },
      "source": [
        "def printMultiTable(high):\n",
        "  i=1\n",
        "  while i<=high:\n",
        "    printMultiples(i)\n",
        "    i=i+1\n",
        "    print(i)\n",
        "printMultiTable(2)"
      ],
      "execution_count": null,
      "outputs": [
        {
          "output_type": "stream",
          "text": [
            "1\n",
            "\n",
            "2\n",
            "\n",
            "3\n",
            "\n",
            "4\n",
            "\n",
            "5\n",
            "\n",
            "6\n",
            "\n",
            "7\n",
            "\n",
            "8\n",
            "\n",
            "9\n",
            "\n",
            "10\n",
            "\n",
            "2\n",
            "2\n",
            "\n",
            "4\n",
            "\n",
            "6\n",
            "\n",
            "8\n",
            "\n",
            "10\n",
            "\n",
            "12\n",
            "\n",
            "14\n",
            "\n",
            "16\n",
            "\n",
            "18\n",
            "\n",
            "20\n",
            "\n",
            "3\n"
          ],
          "name": "stdout"
        }
      ]
    },
    {
      "cell_type": "code",
      "metadata": {
        "id": "6rghuBMagv1L"
      },
      "source": [
        "def printMultiples(n,high):\n",
        "    i=1\n",
        "    while i <=high:\n",
        "      print (n*i,'\\t',)\n",
        "      i= i+1\n",
        "      print()"
      ],
      "execution_count": null,
      "outputs": []
    },
    {
      "cell_type": "code",
      "metadata": {
        "id": "yeH2OnPfinvF"
      },
      "source": [
        "def printMultTable(high):\n",
        "    i=1\n",
        "    while i <=high:\n",
        "      printMultiples(i,high)\n",
        "      i= i+1"
      ],
      "execution_count": null,
      "outputs": []
    },
    {
      "cell_type": "markdown",
      "metadata": {
        "id": "jaE4g8k9MeK9"
      },
      "source": [
        "**6.9  Functions**"
      ]
    },
    {
      "cell_type": "markdown",
      "metadata": {
        "id": "JNoxgDbxq-4I"
      },
      "source": [
        "A few times now, we have mentioned all the things functions are good for. By now, you might be wondering what exactly those things are. Here are some of them:\n",
        "\n",
        "Giving a name to a sequence of statements makes your program easier to read and debug.\n",
        "Dividing a long program into functions allows you to separate parts of the program, debug them in isolation, and then compose them into a whole.\n",
        "Functions facilitate the use of iteration.\n",
        "Well-designed functions are often useful for many programs. Once you write and debug one, you can reuse it."
      ]
    },
    {
      "cell_type": "markdown",
      "metadata": {
        "id": "Ifdro_c3MlN6"
      },
      "source": [
        "## **Chapter No 07**\n",
        "**Strings**"
      ]
    },
    {
      "cell_type": "markdown",
      "metadata": {
        "id": "hEoQKKNfM4uS"
      },
      "source": [
        "**7.1  A Compound Data type**"
      ]
    },
    {
      "cell_type": "code",
      "metadata": {
        "colab": {
          "base_uri": "https://localhost:8080/"
        },
        "id": "tyuowxvTrl_I",
        "outputId": "eb95704e-f1c4-4eb5-ebfd-88b4c2238f07"
      },
      "source": [
        "fruit = \"banana\"\n",
        "letter = fruit[1]\n",
        "print (letter)"
      ],
      "execution_count": null,
      "outputs": [
        {
          "output_type": "stream",
          "text": [
            "a\n"
          ],
          "name": "stdout"
        }
      ]
    },
    {
      "cell_type": "code",
      "metadata": {
        "colab": {
          "base_uri": "https://localhost:8080/"
        },
        "id": "V8AXKK0Qr3Pq",
        "outputId": "fbc37ea7-e6a6-4c99-e322-6a4008a0374f"
      },
      "source": [
        "letter = fruit[0]\n",
        "print (letter)"
      ],
      "execution_count": null,
      "outputs": [
        {
          "output_type": "stream",
          "text": [
            "b\n"
          ],
          "name": "stdout"
        }
      ]
    },
    {
      "cell_type": "markdown",
      "metadata": {
        "id": "hMvHqf4MNA6t"
      },
      "source": [
        "**7.2  Length**"
      ]
    },
    {
      "cell_type": "code",
      "metadata": {
        "colab": {
          "base_uri": "https://localhost:8080/"
        },
        "id": "PTB_0JgpsXp0",
        "outputId": "8c964089-de1b-4322-cddf-b06333521fcc"
      },
      "source": [
        "fruit = \"banana\"\n",
        "len(fruit)"
      ],
      "execution_count": null,
      "outputs": [
        {
          "output_type": "execute_result",
          "data": {
            "text/plain": [
              "6"
            ]
          },
          "metadata": {},
          "execution_count": 161
        }
      ]
    },
    {
      "cell_type": "code",
      "metadata": {
        "colab": {
          "base_uri": "https://localhost:8080/",
          "height": 180
        },
        "id": "kL8cOBXusdYM",
        "outputId": "47c4c938-346c-42b2-a0ff-b19bdb50cffe"
      },
      "source": [
        "length = len(fruit)\n",
        "last = fruit[length]        #error"
      ],
      "execution_count": null,
      "outputs": [
        {
          "output_type": "error",
          "ename": "IndexError",
          "evalue": "ignored",
          "traceback": [
            "\u001b[0;31m---------------------------------------------------------------------------\u001b[0m",
            "\u001b[0;31mIndexError\u001b[0m                                Traceback (most recent call last)",
            "\u001b[0;32m<ipython-input-162-2e77778dec8e>\u001b[0m in \u001b[0;36m<module>\u001b[0;34m()\u001b[0m\n\u001b[1;32m      1\u001b[0m \u001b[0mlength\u001b[0m \u001b[0;34m=\u001b[0m \u001b[0mlen\u001b[0m\u001b[0;34m(\u001b[0m\u001b[0mfruit\u001b[0m\u001b[0;34m)\u001b[0m\u001b[0;34m\u001b[0m\u001b[0;34m\u001b[0m\u001b[0m\n\u001b[0;32m----> 2\u001b[0;31m \u001b[0mlast\u001b[0m \u001b[0;34m=\u001b[0m \u001b[0mfruit\u001b[0m\u001b[0;34m[\u001b[0m\u001b[0mlength\u001b[0m\u001b[0;34m]\u001b[0m\u001b[0;34m\u001b[0m\u001b[0;34m\u001b[0m\u001b[0m\n\u001b[0m",
            "\u001b[0;31mIndexError\u001b[0m: string index out of range"
          ]
        }
      ]
    },
    {
      "cell_type": "code",
      "metadata": {
        "id": "E3QJ6dFYsjaD"
      },
      "source": [
        "length = len(fruit)\n",
        "last = fruit[length-1]"
      ],
      "execution_count": null,
      "outputs": []
    },
    {
      "cell_type": "markdown",
      "metadata": {
        "id": "jPmPv2WRNHZa"
      },
      "source": [
        "**7.3  Traversal and The for Loop**"
      ]
    },
    {
      "cell_type": "code",
      "metadata": {
        "colab": {
          "base_uri": "https://localhost:8080/"
        },
        "id": "lXrtE5VttMuS",
        "outputId": "fa20d4cc-d96c-4dfb-9bfd-3fb4b9d906bd"
      },
      "source": [
        "index = 0\n",
        "while index < len(fruit):\n",
        "    letter = fruit[index]\n",
        "    print (letter)\n",
        "    index += 1"
      ],
      "execution_count": null,
      "outputs": [
        {
          "output_type": "stream",
          "text": [
            "b\n",
            "a\n",
            "n\n",
            "a\n",
            "n\n",
            "a\n"
          ],
          "name": "stdout"
        }
      ]
    },
    {
      "cell_type": "code",
      "metadata": {
        "colab": {
          "base_uri": "https://localhost:8080/"
        },
        "id": "eH6HzQiWtUrT",
        "outputId": "828f6470-aa18-43ed-af37-ad9c85883441"
      },
      "source": [
        "for char in fruit:\n",
        "    print (char)"
      ],
      "execution_count": null,
      "outputs": [
        {
          "output_type": "stream",
          "text": [
            "b\n",
            "a\n",
            "n\n",
            "a\n",
            "n\n",
            "a\n"
          ],
          "name": "stdout"
        }
      ]
    },
    {
      "cell_type": "code",
      "metadata": {
        "colab": {
          "base_uri": "https://localhost:8080/"
        },
        "id": "ArO9pujTtePa",
        "outputId": "934726a8-6b47-4e7d-bd5b-690832f5ee15"
      },
      "source": [
        "prefixes = \"JKLMNOPQ\"\n",
        "suffix = \"ack\"\n",
        "\n",
        "for letter in prefixes:\n",
        "    print (letter + suffix)"
      ],
      "execution_count": null,
      "outputs": [
        {
          "output_type": "stream",
          "text": [
            "Jack\n",
            "Kack\n",
            "Lack\n",
            "Mack\n",
            "Nack\n",
            "Oack\n",
            "Pack\n",
            "Qack\n"
          ],
          "name": "stdout"
        }
      ]
    },
    {
      "cell_type": "markdown",
      "metadata": {
        "id": "EalI-ETaNNbY"
      },
      "source": [
        "**7.4  String Slices**"
      ]
    },
    {
      "cell_type": "code",
      "metadata": {
        "colab": {
          "base_uri": "https://localhost:8080/"
        },
        "id": "NwyVIGwJuB0L",
        "outputId": "aaf21b12-9453-43ae-dbff-28ea79a9d9af"
      },
      "source": [
        "s= \"Peter, Paul, and Mary\"\n",
        "print (s[0:5])"
      ],
      "execution_count": null,
      "outputs": [
        {
          "output_type": "stream",
          "text": [
            "Peter\n"
          ],
          "name": "stdout"
        }
      ]
    },
    {
      "cell_type": "code",
      "metadata": {
        "colab": {
          "base_uri": "https://localhost:8080/"
        },
        "id": "v1BYL4o1vH91",
        "outputId": "ea5e44c8-18c1-4e86-bad0-966ebcb23a36"
      },
      "source": [
        "print (s[7:11])"
      ],
      "execution_count": null,
      "outputs": [
        {
          "output_type": "stream",
          "text": [
            "Paul\n"
          ],
          "name": "stdout"
        }
      ]
    },
    {
      "cell_type": "code",
      "metadata": {
        "colab": {
          "base_uri": "https://localhost:8080/"
        },
        "id": "2-cUakYnvNGM",
        "outputId": "b3046e9a-4124-43e2-cbae-380b3c287cb8"
      },
      "source": [
        "print (s[17:21])"
      ],
      "execution_count": null,
      "outputs": [
        {
          "output_type": "stream",
          "text": [
            "Mary\n"
          ],
          "name": "stdout"
        }
      ]
    },
    {
      "cell_type": "code",
      "metadata": {
        "colab": {
          "base_uri": "https://localhost:8080/",
          "height": 35
        },
        "id": "vIe2L4jtvSlD",
        "outputId": "2eaa0da9-0223-4bbe-a895-ba25ee82075c"
      },
      "source": [
        "fruit = \"banana\"\n",
        "fruit[:3]"
      ],
      "execution_count": null,
      "outputs": [
        {
          "output_type": "execute_result",
          "data": {
            "application/vnd.google.colaboratory.intrinsic+json": {
              "type": "string"
            },
            "text/plain": [
              "'ban'"
            ]
          },
          "metadata": {},
          "execution_count": 179
        }
      ]
    },
    {
      "cell_type": "code",
      "metadata": {
        "colab": {
          "base_uri": "https://localhost:8080/",
          "height": 35
        },
        "id": "I3iCCHYuv7pN",
        "outputId": "2d845587-f4e0-4445-dfc4-1f21756653a8"
      },
      "source": [
        "fruit[3:]"
      ],
      "execution_count": null,
      "outputs": [
        {
          "output_type": "execute_result",
          "data": {
            "application/vnd.google.colaboratory.intrinsic+json": {
              "type": "string"
            },
            "text/plain": [
              "'ana'"
            ]
          },
          "metadata": {},
          "execution_count": 180
        }
      ]
    },
    {
      "cell_type": "markdown",
      "metadata": {
        "id": "N9sIj7NgNThy"
      },
      "source": [
        "**7.5  String Comparison**"
      ]
    },
    {
      "cell_type": "code",
      "metadata": {
        "id": "9yULZ7FuwACM"
      },
      "source": [
        "if s==\"banana\":\n",
        "  print(\"Yes,we have no bananas!\")"
      ],
      "execution_count": null,
      "outputs": []
    },
    {
      "cell_type": "code",
      "metadata": {
        "colab": {
          "base_uri": "https://localhost:8080/"
        },
        "id": "hiEN5cMr0Zqm",
        "outputId": "7cf7d1bf-465e-40dc-cc32-3df905fd03cd"
      },
      "source": [
        "if s<\"banana\":\n",
        "  print(\"Your word \"+ s + \" come before banana.\")\n",
        "elif s>\"banana\":\n",
        "  print(\"Your word \"+ s + \" come after banana.\")\n",
        "else:\n",
        "  print(\"Yes,we have no bananas!\")"
      ],
      "execution_count": null,
      "outputs": [
        {
          "output_type": "stream",
          "text": [
            "Your word Peter, Paul, and Mary come before banana.\n"
          ],
          "name": "stdout"
        }
      ]
    },
    {
      "cell_type": "markdown",
      "metadata": {
        "id": "C92blgifNXi3"
      },
      "source": [
        "**7.6  Strings and Immutable**"
      ]
    },
    {
      "cell_type": "code",
      "metadata": {
        "colab": {
          "base_uri": "https://localhost:8080/",
          "height": 197
        },
        "id": "4ACne0CJ-1-N",
        "outputId": "365e9d52-65aa-4d66-e99d-4a78f1a41bb0"
      },
      "source": [
        "greeting = \"Hello, world!\"\n",
        "greeting[0] = 'J'            # ERROR!\n",
        "print (greeting)"
      ],
      "execution_count": null,
      "outputs": [
        {
          "output_type": "error",
          "ename": "TypeError",
          "evalue": "ignored",
          "traceback": [
            "\u001b[0;31m---------------------------------------------------------------------------\u001b[0m",
            "\u001b[0;31mTypeError\u001b[0m                                 Traceback (most recent call last)",
            "\u001b[0;32m<ipython-input-281-793eda8bb440>\u001b[0m in \u001b[0;36m<module>\u001b[0;34m()\u001b[0m\n\u001b[1;32m      1\u001b[0m \u001b[0mgreeting\u001b[0m \u001b[0;34m=\u001b[0m \u001b[0;34m\"Hello, world!\"\u001b[0m\u001b[0;34m\u001b[0m\u001b[0;34m\u001b[0m\u001b[0m\n\u001b[0;32m----> 2\u001b[0;31m \u001b[0mgreeting\u001b[0m\u001b[0;34m[\u001b[0m\u001b[0;36m0\u001b[0m\u001b[0;34m]\u001b[0m \u001b[0;34m=\u001b[0m \u001b[0;34m'J'\u001b[0m            \u001b[0;31m# ERROR!\u001b[0m\u001b[0;34m\u001b[0m\u001b[0;34m\u001b[0m\u001b[0m\n\u001b[0m\u001b[1;32m      3\u001b[0m \u001b[0mprint\u001b[0m \u001b[0;34m(\u001b[0m\u001b[0mgreeting\u001b[0m\u001b[0;34m)\u001b[0m\u001b[0;34m\u001b[0m\u001b[0;34m\u001b[0m\u001b[0m\n",
            "\u001b[0;31mTypeError\u001b[0m: 'str' object does not support item assignment"
          ]
        }
      ]
    },
    {
      "cell_type": "code",
      "metadata": {
        "colab": {
          "base_uri": "https://localhost:8080/"
        },
        "id": "Bmpjj8vu-8an",
        "outputId": "00897636-5ab7-4b4b-de44-5853b5cd2ef3"
      },
      "source": [
        "greeting = \"Hello, world!\"\n",
        "new_greeting = 'J' + greeting[1:]\n",
        "print (new_greeting)"
      ],
      "execution_count": null,
      "outputs": [
        {
          "output_type": "stream",
          "text": [
            "Jello, world!\n"
          ],
          "name": "stdout"
        }
      ]
    },
    {
      "cell_type": "markdown",
      "metadata": {
        "id": "sXKvyZ_1Nf1v"
      },
      "source": [
        "**7.7  A find Function**"
      ]
    },
    {
      "cell_type": "code",
      "metadata": {
        "id": "kTMCFaFC_GAb"
      },
      "source": [
        "def find(strng, ch):\n",
        "    index = 0\n",
        "    while index < len(strng):\n",
        "        if strng[index] == ch:\n",
        "            return index\n",
        "        index += 1\n",
        "    return -1"
      ],
      "execution_count": null,
      "outputs": []
    },
    {
      "cell_type": "markdown",
      "metadata": {
        "id": "kGvsXaXONmn5"
      },
      "source": [
        "**7.8  Looping and Counting**"
      ]
    },
    {
      "cell_type": "code",
      "metadata": {
        "colab": {
          "base_uri": "https://localhost:8080/"
        },
        "id": "CUHgdz3A_Mhv",
        "outputId": "ef7d37bf-f34c-47f9-8e65-6f7c4e403e32"
      },
      "source": [
        "fruit = \"banana\"\n",
        "count = 0\n",
        "for char in fruit:\n",
        "    if char == 'a':\n",
        "        count += 1\n",
        "print (count)"
      ],
      "execution_count": null,
      "outputs": [
        {
          "output_type": "stream",
          "text": [
            "3\n"
          ],
          "name": "stdout"
        }
      ]
    },
    {
      "cell_type": "markdown",
      "metadata": {
        "id": "BUHATq2DNq-I"
      },
      "source": [
        "**7.9  The String Module**"
      ]
    },
    {
      "cell_type": "code",
      "metadata": {
        "id": "7rHrmIYc_WAP"
      },
      "source": [
        "import string"
      ],
      "execution_count": null,
      "outputs": []
    },
    {
      "cell_type": "code",
      "metadata": {
        "colab": {
          "base_uri": "https://localhost:8080/"
        },
        "id": "JNsrxYyuAXrD",
        "outputId": "44d8c0c3-e79d-439e-846e-0a3b30e3b872"
      },
      "source": [
        "index=str.find(fruit,\"a\")\n",
        "print(index)"
      ],
      "execution_count": null,
      "outputs": [
        {
          "output_type": "stream",
          "text": [
            "1\n"
          ],
          "name": "stdout"
        }
      ]
    },
    {
      "cell_type": "code",
      "metadata": {
        "colab": {
          "base_uri": "https://localhost:8080/"
        },
        "id": "hKfYy0rNdRK6",
        "outputId": "6ad94424-5ba9-4fc0-d600-14f4164aa4e4"
      },
      "source": [
        "fruit=\"banana\"\n",
        "index=str.find(fruit,\"b\")\n",
        "print(index)\n",
        "index=str.find(fruit,\"a\")\n",
        "print(index)\n",
        "index=str.find(fruit,\"n\")\n",
        "print(index)\n",
        "index=str.find(fruit,\"a\")\n",
        "print(index)\n",
        "index=str.find(fruit,\"n\")\n",
        "print(index)\n",
        "index=str.find(fruit,\"a\")\n",
        "print(index)"
      ],
      "execution_count": null,
      "outputs": [
        {
          "output_type": "stream",
          "text": [
            "0\n",
            "1\n",
            "2\n",
            "1\n",
            "2\n",
            "1\n"
          ],
          "name": "stdout"
        }
      ]
    },
    {
      "cell_type": "code",
      "metadata": {
        "colab": {
          "base_uri": "https://localhost:8080/"
        },
        "id": "uWHd4ErDdXks",
        "outputId": "1be8c25c-767a-42e9-fa22-b2bb370e5337"
      },
      "source": [
        "str.find(\"banana\",\"na\")"
      ],
      "execution_count": null,
      "outputs": [
        {
          "output_type": "execute_result",
          "data": {
            "text/plain": [
              "2"
            ]
          },
          "metadata": {},
          "execution_count": 43
        }
      ]
    },
    {
      "cell_type": "code",
      "metadata": {
        "colab": {
          "base_uri": "https://localhost:8080/"
        },
        "id": "SyzgQDeVddAr",
        "outputId": "ee9f388b-7cca-49ae-b9f0-91d266f55980"
      },
      "source": [
        "str.find(\"banana\",\"na\" , 3)"
      ],
      "execution_count": null,
      "outputs": [
        {
          "output_type": "execute_result",
          "data": {
            "text/plain": [
              "4"
            ]
          },
          "metadata": {},
          "execution_count": 44
        }
      ]
    },
    {
      "cell_type": "code",
      "metadata": {
        "colab": {
          "base_uri": "https://localhost:8080/"
        },
        "id": "_32dq6OMdhXn",
        "outputId": "1d499522-5482-4b5a-b93b-08c305c342b0"
      },
      "source": [
        "str.find(\"Abdul\",\"A\" ,1,2)"
      ],
      "execution_count": null,
      "outputs": [
        {
          "output_type": "execute_result",
          "data": {
            "text/plain": [
              "-1"
            ]
          },
          "metadata": {},
          "execution_count": 248
        }
      ]
    },
    {
      "cell_type": "markdown",
      "metadata": {
        "id": "FYOCGgYMN35D"
      },
      "source": [
        "**7.10  Character Classification**"
      ]
    },
    {
      "cell_type": "code",
      "metadata": {
        "colab": {
          "base_uri": "https://localhost:8080/"
        },
        "id": "e1YByEQRAfNG",
        "outputId": "4c9b3b7d-b708-4873-91b7-30eef95bfe6d"
      },
      "source": [
        "print(str.islower)\n",
        "print(str.upper)\n",
        "print(str.isdigit)"
      ],
      "execution_count": null,
      "outputs": [
        {
          "output_type": "stream",
          "text": [
            "<method 'islower' of 'str' objects>\n",
            "<method 'upper' of 'str' objects>\n",
            "<method 'isdigit' of 'str' objects>\n"
          ],
          "name": "stdout"
        }
      ]
    },
    {
      "cell_type": "code",
      "metadata": {
        "id": "YDYv-GdsA3X8"
      },
      "source": [
        "def is_lower(ch):\n",
        "    return string.find(string.lowercase, ch) != -1"
      ],
      "execution_count": null,
      "outputs": []
    },
    {
      "cell_type": "code",
      "metadata": {
        "id": "SVjtJcExA4P2"
      },
      "source": [
        "def is_lower(ch):\n",
        "    return ch in string.lowercase"
      ],
      "execution_count": null,
      "outputs": []
    },
    {
      "cell_type": "code",
      "metadata": {
        "id": "1B8htkfjA9T4"
      },
      "source": [
        "def is_lower(ch):\n",
        "    return 'a' <= ch <= 'z'"
      ],
      "execution_count": null,
      "outputs": []
    },
    {
      "cell_type": "code",
      "metadata": {
        "colab": {
          "base_uri": "https://localhost:8080/"
        },
        "id": "rCPgkzDeBAPb",
        "outputId": "3bdd307d-1c17-4f91-9c4c-818c48a8b35c"
      },
      "source": [
        "print (string.whitespace)"
      ],
      "execution_count": null,
      "outputs": [
        {
          "output_type": "stream",
          "text": [
            " \t\n",
            "\r\u000b\f\n"
          ],
          "name": "stdout"
        }
      ]
    },
    {
      "cell_type": "markdown",
      "metadata": {
        "id": "s725kqAhMsEE"
      },
      "source": [
        "## **Chapter No 08**\n",
        "**Lists**"
      ]
    },
    {
      "cell_type": "markdown",
      "metadata": {
        "id": "AanpIY5AN_e_"
      },
      "source": [
        "**8.1  List Values**"
      ]
    },
    {
      "cell_type": "code",
      "metadata": {
        "colab": {
          "base_uri": "https://localhost:8080/"
        },
        "id": "4IU5EtXUBSIB",
        "outputId": "f8a45416-9636-469d-c1d6-fe0a3aed6fee"
      },
      "source": [
        "[10, 20, 30, 40]\n",
        "[\"spam\", \"bungee\", \"swallow\"]"
      ],
      "execution_count": null,
      "outputs": [
        {
          "output_type": "execute_result",
          "data": {
            "text/plain": [
              "['spam', 'bungee', 'swallow']"
            ]
          },
          "metadata": {},
          "execution_count": 317
        }
      ]
    },
    {
      "cell_type": "code",
      "metadata": {
        "id": "-TfV1RiSBUuS"
      },
      "source": [
        "a=[\"hello\", 2.0, 5, [10, 20]]   #single intity"
      ],
      "execution_count": null,
      "outputs": []
    },
    {
      "cell_type": "code",
      "metadata": {
        "colab": {
          "base_uri": "https://localhost:8080/"
        },
        "id": "dOv4_oVBI6O1",
        "outputId": "6d8c1d7a-714a-48ac-b548-0ec305066cf8"
      },
      "source": [
        "a[3][1]"
      ],
      "execution_count": null,
      "outputs": [
        {
          "output_type": "execute_result",
          "data": {
            "text/plain": [
              "20"
            ]
          },
          "metadata": {},
          "execution_count": 323
        }
      ]
    },
    {
      "cell_type": "code",
      "metadata": {
        "colab": {
          "base_uri": "https://localhost:8080/"
        },
        "id": "qdG7Bks4BbbX",
        "outputId": "c634a81e-05c8-4fae-c599-e6a34a3aa7f5"
      },
      "source": [
        "print(range(1,5))"
      ],
      "execution_count": null,
      "outputs": [
        {
          "output_type": "stream",
          "text": [
            "range(1, 5)\n"
          ],
          "name": "stdout"
        }
      ]
    },
    {
      "cell_type": "code",
      "metadata": {
        "colab": {
          "base_uri": "https://localhost:8080/"
        },
        "id": "G0yc51NwBocf",
        "outputId": "75b62810-666b-4a94-c4df-905a9cd7e06a"
      },
      "source": [
        "range(10)"
      ],
      "execution_count": null,
      "outputs": [
        {
          "output_type": "execute_result",
          "data": {
            "text/plain": [
              "range(0, 10)"
            ]
          },
          "metadata": {},
          "execution_count": 307
        }
      ]
    },
    {
      "cell_type": "code",
      "metadata": {
        "colab": {
          "base_uri": "https://localhost:8080/"
        },
        "id": "ua2MqhA2BvSd",
        "outputId": "ea4969e7-f701-4d09-d15d-ca2186483dab"
      },
      "source": [
        "vocabulary = [\"ameliorate\", \"castigate\", \"defenestrate\"]\n",
        "numbers = [17, 123]\n",
        "empty = []\n",
        "print (vocabulary, numbers, empty)"
      ],
      "execution_count": null,
      "outputs": [
        {
          "output_type": "stream",
          "text": [
            "['ameliorate', 'castigate', 'defenestrate'] [17, 123] []\n"
          ],
          "name": "stdout"
        }
      ]
    },
    {
      "cell_type": "markdown",
      "metadata": {
        "id": "ADubmKEKOCvI"
      },
      "source": [
        "**8.2  Accessing Elements**"
      ]
    },
    {
      "cell_type": "code",
      "metadata": {
        "colab": {
          "base_uri": "https://localhost:8080/"
        },
        "id": "lUSj_3o2B4vX",
        "outputId": "90423b0f-098b-4d78-d375-dfb385abf852"
      },
      "source": [
        "print(numbers[0])\n",
        "numbers[1]=5"
      ],
      "execution_count": null,
      "outputs": [
        {
          "output_type": "stream",
          "text": [
            "17\n"
          ],
          "name": "stdout"
        }
      ]
    },
    {
      "cell_type": "code",
      "metadata": {
        "colab": {
          "base_uri": "https://localhost:8080/"
        },
        "id": "1n6liCiTCBh6",
        "outputId": "42bf5c43-0236-40ca-f52b-26b1e58f5e5f"
      },
      "source": [
        "numbers[9-8]"
      ],
      "execution_count": null,
      "outputs": [
        {
          "output_type": "execute_result",
          "data": {
            "text/plain": [
              "5"
            ]
          },
          "metadata": {},
          "execution_count": 61
        }
      ]
    },
    {
      "cell_type": "code",
      "metadata": {
        "colab": {
          "base_uri": "https://localhost:8080/"
        },
        "id": "7Hhz31CrCCCi",
        "outputId": "a00a87d1-2947-46bd-b642-864071885eee"
      },
      "source": [
        "numbers[1-0]"
      ],
      "execution_count": null,
      "outputs": [
        {
          "output_type": "execute_result",
          "data": {
            "text/plain": [
              "5"
            ]
          },
          "metadata": {},
          "execution_count": 63
        }
      ]
    },
    {
      "cell_type": "code",
      "metadata": {
        "colab": {
          "base_uri": "https://localhost:8080/",
          "height": 163
        },
        "id": "nOMkOzHACR7m",
        "outputId": "0d01d2ea-062c-42b4-d9bc-2e831dce1463"
      },
      "source": [
        "numbers[2]=5"
      ],
      "execution_count": null,
      "outputs": [
        {
          "output_type": "error",
          "ename": "IndexError",
          "evalue": "ignored",
          "traceback": [
            "\u001b[0;31m---------------------------------------------------------------------------\u001b[0m",
            "\u001b[0;31mIndexError\u001b[0m                                Traceback (most recent call last)",
            "\u001b[0;32m<ipython-input-65-4fe1c341d2b8>\u001b[0m in \u001b[0;36m<module>\u001b[0;34m()\u001b[0m\n\u001b[0;32m----> 1\u001b[0;31m \u001b[0mnumbers\u001b[0m\u001b[0;34m[\u001b[0m\u001b[0;36m2\u001b[0m\u001b[0;34m]\u001b[0m\u001b[0;34m=\u001b[0m\u001b[0;36m5\u001b[0m\u001b[0;34m\u001b[0m\u001b[0;34m\u001b[0m\u001b[0m\n\u001b[0m",
            "\u001b[0;31mIndexError\u001b[0m: list assignment index out of range"
          ]
        }
      ]
    },
    {
      "cell_type": "code",
      "metadata": {
        "colab": {
          "base_uri": "https://localhost:8080/"
        },
        "id": "-mVl9ybtCVFM",
        "outputId": "17c2603b-3bbf-4b10-fa5e-fcdedbd0f63b"
      },
      "source": [
        "numbers[-1]"
      ],
      "execution_count": null,
      "outputs": [
        {
          "output_type": "execute_result",
          "data": {
            "text/plain": [
              "123"
            ]
          },
          "metadata": {},
          "execution_count": 316
        }
      ]
    },
    {
      "cell_type": "code",
      "metadata": {
        "colab": {
          "base_uri": "https://localhost:8080/"
        },
        "id": "BYLxXCB-CYfE",
        "outputId": "54f02181-ec67-41b4-fe94-50083ac2970e"
      },
      "source": [
        "numbers[-2]"
      ],
      "execution_count": null,
      "outputs": [
        {
          "output_type": "execute_result",
          "data": {
            "text/plain": [
              "17"
            ]
          },
          "metadata": {},
          "execution_count": 317
        }
      ]
    },
    {
      "cell_type": "code",
      "metadata": {
        "colab": {
          "base_uri": "https://localhost:8080/",
          "height": 163
        },
        "id": "iPMfRqj5CY6X",
        "outputId": "4b59137d-4a12-4157-f152-c08276823aba"
      },
      "source": [
        "numbers[-3]"
      ],
      "execution_count": null,
      "outputs": [
        {
          "output_type": "error",
          "ename": "IndexError",
          "evalue": "ignored",
          "traceback": [
            "\u001b[0;31m---------------------------------------------------------------------------\u001b[0m",
            "\u001b[0;31mIndexError\u001b[0m                                Traceback (most recent call last)",
            "\u001b[0;32m<ipython-input-318-2d36b9b8a1ab>\u001b[0m in \u001b[0;36m<module>\u001b[0;34m()\u001b[0m\n\u001b[0;32m----> 1\u001b[0;31m \u001b[0mnumbers\u001b[0m\u001b[0;34m[\u001b[0m\u001b[0;34m-\u001b[0m\u001b[0;36m3\u001b[0m\u001b[0;34m]\u001b[0m\u001b[0;34m\u001b[0m\u001b[0;34m\u001b[0m\u001b[0m\n\u001b[0m",
            "\u001b[0;31mIndexError\u001b[0m: list index out of range"
          ]
        }
      ]
    },
    {
      "cell_type": "code",
      "metadata": {
        "colab": {
          "base_uri": "https://localhost:8080/"
        },
        "id": "JEf4U1jgCgwE",
        "outputId": "cb232a0e-b048-4e98-c313-fc9af6737b28"
      },
      "source": [
        "horsemen = [\"war\", \"famine\", \"pestilence\", \"death\"]\n",
        "\n",
        "i = 0\n",
        "while i < 4:\n",
        "    print (horsemen[i])\n",
        "    i += 1"
      ],
      "execution_count": null,
      "outputs": [
        {
          "output_type": "stream",
          "text": [
            "war\n",
            "famine\n",
            "pestilence\n",
            "death\n"
          ],
          "name": "stdout"
        }
      ]
    },
    {
      "cell_type": "markdown",
      "metadata": {
        "id": "lt3CUHqROKwg"
      },
      "source": [
        "**8.3  List Length**"
      ]
    },
    {
      "cell_type": "code",
      "metadata": {
        "colab": {
          "base_uri": "https://localhost:8080/"
        },
        "id": "VXJ9YXOfCm6A",
        "outputId": "3946fb6f-81a0-4f0b-b782-186063249df3"
      },
      "source": [
        "horsemen = [\"war\", \"famine\", \"pestilence\", \"death\"]\n",
        "\n",
        "i = 0\n",
        "num = len(horsemen)\n",
        "while i < num:\n",
        "    print (horsemen[i])\n",
        "    i += 1"
      ],
      "execution_count": null,
      "outputs": [
        {
          "output_type": "stream",
          "text": [
            "war\n",
            "famine\n",
            "pestilence\n",
            "death\n"
          ],
          "name": "stdout"
        }
      ]
    },
    {
      "cell_type": "markdown",
      "metadata": {
        "id": "_xofHpUvOLLn"
      },
      "source": [
        "**8.4  List Membership**"
      ]
    },
    {
      "cell_type": "code",
      "metadata": {
        "colab": {
          "base_uri": "https://localhost:8080/"
        },
        "id": "2w0hB9LEDCxS",
        "outputId": "0d23ac53-1b82-4a57-9350-08c332c2226b"
      },
      "source": [
        "horsemen = ['war', 'famine', 'pestilence', 'death']\n",
        "'pestilence' in horsemen"
      ],
      "execution_count": null,
      "outputs": [
        {
          "output_type": "execute_result",
          "data": {
            "text/plain": [
              "True"
            ]
          },
          "metadata": {},
          "execution_count": 111
        }
      ]
    },
    {
      "cell_type": "code",
      "metadata": {
        "colab": {
          "base_uri": "https://localhost:8080/"
        },
        "id": "Asy84L9eDItc",
        "outputId": "9dc2da29-cc1e-42d9-8abf-e33152b54784"
      },
      "source": [
        "'debauchery' in horsemen"
      ],
      "execution_count": null,
      "outputs": [
        {
          "output_type": "execute_result",
          "data": {
            "text/plain": [
              "False"
            ]
          },
          "metadata": {},
          "execution_count": 112
        }
      ]
    },
    {
      "cell_type": "code",
      "metadata": {
        "colab": {
          "base_uri": "https://localhost:8080/"
        },
        "id": "IABukf-XDOKz",
        "outputId": "259ddbe1-0b05-44d4-c77a-80b6afc9dcab"
      },
      "source": [
        "'debauchery' not in horsemen"
      ],
      "execution_count": null,
      "outputs": [
        {
          "output_type": "execute_result",
          "data": {
            "text/plain": [
              "True"
            ]
          },
          "metadata": {},
          "execution_count": 113
        }
      ]
    },
    {
      "cell_type": "markdown",
      "metadata": {
        "id": "uEbsiHRDOVZY"
      },
      "source": [
        "**8.5  Lists and for Loop**"
      ]
    },
    {
      "cell_type": "code",
      "metadata": {
        "colab": {
          "base_uri": "https://localhost:8080/"
        },
        "id": "JKjago2ZFk67",
        "outputId": "18fb6d87-df46-41e8-c618-8d68c8442ae6"
      },
      "source": [
        "i=0\n",
        "list=['1','2','3','4']\n",
        "while i<len(list):\n",
        "  VARIABLE = list[i]\n",
        "  i = i + 1\n",
        "  print(list)"
      ],
      "execution_count": null,
      "outputs": [
        {
          "output_type": "stream",
          "text": [
            "['1', '2', '3', '4']\n",
            "['1', '2', '3', '4']\n",
            "['1', '2', '3', '4']\n",
            "['1', '2', '3', '4']\n"
          ],
          "name": "stdout"
        }
      ]
    },
    {
      "cell_type": "code",
      "metadata": {
        "colab": {
          "base_uri": "https://localhost:8080/"
        },
        "id": "hNYDijdNFu36",
        "outputId": "eca0fc0a-b287-46f1-f181-cd1c7d67ee6d"
      },
      "source": [
        "for horseman in horsemen:\n",
        "    print (horseman)"
      ],
      "execution_count": null,
      "outputs": [
        {
          "output_type": "stream",
          "text": [
            "war\n",
            "famine\n",
            "pestilence\n",
            "death\n"
          ],
          "name": "stdout"
        }
      ]
    },
    {
      "cell_type": "code",
      "metadata": {
        "colab": {
          "base_uri": "https://localhost:8080/"
        },
        "id": "4jRSaNSlF1N2",
        "outputId": "86931311-7fe7-4081-cfae-775f7b69408d"
      },
      "source": [
        "for number in range(20):\n",
        "    if number % 3 == 0:\n",
        "        print  (number)\n",
        "\n",
        "for fruit in [\"banana\", \"apple\", \"quince\"]:\n",
        "    print (\"I like to eat \" + fruit + \"s!\")"
      ],
      "execution_count": null,
      "outputs": [
        {
          "output_type": "stream",
          "text": [
            "0\n",
            "3\n",
            "6\n",
            "9\n",
            "12\n",
            "15\n",
            "18\n",
            "I like to eat bananas!\n",
            "I like to eat apples!\n",
            "I like to eat quinces!\n"
          ],
          "name": "stdout"
        }
      ]
    },
    {
      "cell_type": "code",
      "metadata": {
        "id": "_n54_hANF8ny"
      },
      "source": [
        "numbers = [1, 2, 3, 4, 5]\n",
        "\n",
        "for index in range(len(numbers)):\n",
        "    numbers[index] = numbers[index]**2"
      ],
      "execution_count": null,
      "outputs": []
    },
    {
      "cell_type": "code",
      "metadata": {
        "id": "Jrv2FpE8GAb3"
      },
      "source": [
        "numbers = [1, 2, 3, 4, 5]\n",
        "\n",
        "for index, value in enumerate(numbers):\n",
        "    numbers[index] = value**2"
      ],
      "execution_count": null,
      "outputs": []
    },
    {
      "cell_type": "markdown",
      "metadata": {
        "id": "TYVqHNPVOakK"
      },
      "source": [
        "**8.6  List Operations**"
      ]
    },
    {
      "cell_type": "code",
      "metadata": {
        "colab": {
          "base_uri": "https://localhost:8080/"
        },
        "id": "UuGkjWwLDY75",
        "outputId": "603926f2-003b-4d4e-cea2-6cda5649b2b7"
      },
      "source": [
        "a = [1, 2, 3]\n",
        "b = [4, 5, 6]\n",
        "c = a + b\n",
        "print (c)"
      ],
      "execution_count": null,
      "outputs": [
        {
          "output_type": "stream",
          "text": [
            "[1, 2, 3, 4, 5, 6]\n"
          ],
          "name": "stdout"
        }
      ]
    },
    {
      "cell_type": "code",
      "metadata": {
        "colab": {
          "base_uri": "https://localhost:8080/"
        },
        "id": "DGt0NITMDgLU",
        "outputId": "aa631525-3e92-4b59-c7e7-cf2d935719e5"
      },
      "source": [
        "[0] * 4"
      ],
      "execution_count": null,
      "outputs": [
        {
          "output_type": "execute_result",
          "data": {
            "text/plain": [
              "[0, 0, 0, 0]"
            ]
          },
          "metadata": {},
          "execution_count": 120
        }
      ]
    },
    {
      "cell_type": "code",
      "metadata": {
        "colab": {
          "base_uri": "https://localhost:8080/"
        },
        "id": "b3tng_3wDjpv",
        "outputId": "fd510177-ad0d-4595-cc92-3e6553ae4102"
      },
      "source": [
        "[1, 2, 3] * 3"
      ],
      "execution_count": null,
      "outputs": [
        {
          "output_type": "execute_result",
          "data": {
            "text/plain": [
              "[1, 2, 3, 1, 2, 3, 1, 2, 3]"
            ]
          },
          "metadata": {},
          "execution_count": 121
        }
      ]
    },
    {
      "cell_type": "markdown",
      "metadata": {
        "id": "UikKyfhXOVwq"
      },
      "source": [
        "**8.7  List Slices**"
      ]
    },
    {
      "cell_type": "code",
      "metadata": {
        "colab": {
          "base_uri": "https://localhost:8080/"
        },
        "id": "iD1KSriVDp0c",
        "outputId": "4cf5db86-5e70-4f5d-efbe-949090692d04"
      },
      "source": [
        "a_list = ['a', 'b', 'c', 'd', 'e', 'f']\n",
        "a_list[1:3]"
      ],
      "execution_count": null,
      "outputs": [
        {
          "output_type": "execute_result",
          "data": {
            "text/plain": [
              "['b', 'c']"
            ]
          },
          "metadata": {},
          "execution_count": 122
        }
      ]
    },
    {
      "cell_type": "code",
      "metadata": {
        "colab": {
          "base_uri": "https://localhost:8080/"
        },
        "id": "02_RNI1IDt-U",
        "outputId": "9d6d8eb0-bec1-42fe-f5d2-aabc4403a744"
      },
      "source": [
        "a_list[:4]"
      ],
      "execution_count": null,
      "outputs": [
        {
          "output_type": "execute_result",
          "data": {
            "text/plain": [
              "['a', 'b', 'c', 'd']"
            ]
          },
          "metadata": {},
          "execution_count": 94
        }
      ]
    },
    {
      "cell_type": "code",
      "metadata": {
        "colab": {
          "base_uri": "https://localhost:8080/"
        },
        "id": "dZsV5IoyDyK5",
        "outputId": "eb7aa952-2655-4130-e96f-d95d7280d2e3"
      },
      "source": [
        "a_list[3:]"
      ],
      "execution_count": null,
      "outputs": [
        {
          "output_type": "execute_result",
          "data": {
            "text/plain": [
              "['d', 'e', 'f']"
            ]
          },
          "metadata": {},
          "execution_count": 95
        }
      ]
    },
    {
      "cell_type": "code",
      "metadata": {
        "colab": {
          "base_uri": "https://localhost:8080/"
        },
        "id": "60BGMpm7D1ax",
        "outputId": "996be5a4-9d55-415a-cc7d-1bba9499a1cd"
      },
      "source": [
        "a_list[:]"
      ],
      "execution_count": null,
      "outputs": [
        {
          "output_type": "execute_result",
          "data": {
            "text/plain": [
              "['a', 'b', 'c', 'd', 'e', 'f']"
            ]
          },
          "metadata": {},
          "execution_count": 96
        }
      ]
    },
    {
      "cell_type": "markdown",
      "metadata": {
        "id": "oNdr1i2GOl0I"
      },
      "source": [
        "**8.8  Lists are Mutable**"
      ]
    },
    {
      "cell_type": "code",
      "metadata": {
        "colab": {
          "base_uri": "https://localhost:8080/"
        },
        "id": "F9y95hCaD8lg",
        "outputId": "d2d99f77-5c65-4f29-be99-2c498fe6d868"
      },
      "source": [
        "fruit = [\"banana\", \"apple\", \"quince\"]\n",
        "fruit[0] = \"pear\"\n",
        "fruit[-1] = \"orange\"\n",
        "print(fruit)"
      ],
      "execution_count": null,
      "outputs": [
        {
          "output_type": "stream",
          "text": [
            "['pear', 'apple', 'orange']\n"
          ],
          "name": "stdout"
        }
      ]
    },
    {
      "cell_type": "code",
      "metadata": {
        "colab": {
          "base_uri": "https://localhost:8080/"
        },
        "id": "9NPmkYDdEJog",
        "outputId": "9e298f7c-5074-4572-d936-476cb61c8ee3"
      },
      "source": [
        "my_list = ['T', 'E', 'S', 'T']\n",
        "my_list[2] = 'X'\n",
        "my_list"
      ],
      "execution_count": null,
      "outputs": [
        {
          "output_type": "execute_result",
          "data": {
            "text/plain": [
              "['T', 'E', 'X', 'T']"
            ]
          },
          "metadata": {},
          "execution_count": 97
        }
      ]
    },
    {
      "cell_type": "code",
      "metadata": {
        "colab": {
          "base_uri": "https://localhost:8080/"
        },
        "id": "-KbjBRyHEOia",
        "outputId": "914d6c3b-f126-4961-f429-9445ea968756"
      },
      "source": [
        "a_list = ['a', 'b', 'c', 'd', 'e', 'f']\n",
        "a_list[1:3] = ['x', 'y']\n",
        "print (a_list)"
      ],
      "execution_count": null,
      "outputs": [
        {
          "output_type": "stream",
          "text": [
            "['a', 'x', 'y', 'd', 'e', 'f']\n"
          ],
          "name": "stdout"
        }
      ]
    },
    {
      "cell_type": "code",
      "metadata": {
        "colab": {
          "base_uri": "https://localhost:8080/"
        },
        "id": "jNEfMEorET9c",
        "outputId": "ade6b3e6-5f1e-4c59-b736-a2d5954516a8"
      },
      "source": [
        "a_list = ['a', 'b', 'c', 'd', 'e', 'f']\n",
        "a_list[1:3] = []\n",
        "print (a_list)"
      ],
      "execution_count": null,
      "outputs": [
        {
          "output_type": "stream",
          "text": [
            "['a', 'd', 'e', 'f']\n"
          ],
          "name": "stdout"
        }
      ]
    },
    {
      "cell_type": "code",
      "metadata": {
        "colab": {
          "base_uri": "https://localhost:8080/"
        },
        "id": "ziGwXitZEcpO",
        "outputId": "c3b7ef43-d3ea-4f36-b276-8a3fb49d14f3"
      },
      "source": [
        "a_list = ['a', 'd', 'f']\n",
        "a_list[1:1] = ['b', 'c']\n",
        "print (a_list)"
      ],
      "execution_count": null,
      "outputs": [
        {
          "output_type": "stream",
          "text": [
            "['a', 'b', 'c', 'd', 'f']\n"
          ],
          "name": "stdout"
        }
      ]
    },
    {
      "cell_type": "code",
      "metadata": {
        "colab": {
          "base_uri": "https://localhost:8080/"
        },
        "id": "zNDvQ2y1Eji_",
        "outputId": "04cdbc74-8ff0-4914-ebeb-29073db8d5ba"
      },
      "source": [
        "a_list[4:4] = ['e']\n",
        "print (a_list)"
      ],
      "execution_count": null,
      "outputs": [
        {
          "output_type": "stream",
          "text": [
            "['a', 'd', 'e', 'f', 'e']\n"
          ],
          "name": "stdout"
        }
      ]
    },
    {
      "cell_type": "markdown",
      "metadata": {
        "id": "EWu6kCZdOuK0"
      },
      "source": [
        "**8.9  List Deletion**"
      ]
    },
    {
      "cell_type": "code",
      "metadata": {
        "colab": {
          "base_uri": "https://localhost:8080/"
        },
        "id": "KHSnOn3KEp7k",
        "outputId": "bfb063bb-77ea-44ae-a939-924681c20e88"
      },
      "source": [
        "a = ['one', 'two', 'three']\n",
        "del a[1]\n",
        "a"
      ],
      "execution_count": null,
      "outputs": [
        {
          "output_type": "execute_result",
          "data": {
            "text/plain": [
              "['one', 'three']"
            ]
          },
          "metadata": {},
          "execution_count": 123
        }
      ]
    },
    {
      "cell_type": "code",
      "metadata": {
        "colab": {
          "base_uri": "https://localhost:8080/"
        },
        "id": "6y9SaFhzEvKQ",
        "outputId": "0c76b990-be43-48e9-8fe3-87f2db4e29fc"
      },
      "source": [
        "a_list = ['a', 'b', 'c', 'd', 'e', 'f']\n",
        "del a_list[1:5]\n",
        "print (a_list)"
      ],
      "execution_count": null,
      "outputs": [
        {
          "output_type": "stream",
          "text": [
            "['a', 'f']\n"
          ],
          "name": "stdout"
        }
      ]
    },
    {
      "cell_type": "markdown",
      "metadata": {
        "id": "8cHWjbU-OzZc"
      },
      "source": [
        "**8.10  Object And Values**"
      ]
    },
    {
      "cell_type": "code",
      "metadata": {
        "id": "kpbjYV_WE109"
      },
      "source": [
        "a = \"banana\"\n",
        "b = \"banana\""
      ],
      "execution_count": null,
      "outputs": []
    },
    {
      "cell_type": "code",
      "metadata": {
        "colab": {
          "base_uri": "https://localhost:8080/"
        },
        "id": "2DRtKB6iE5AS",
        "outputId": "aaa4226e-7aa6-43e4-cd5e-4c8960b3f0b9"
      },
      "source": [
        "a == b"
      ],
      "execution_count": null,
      "outputs": [
        {
          "output_type": "execute_result",
          "data": {
            "text/plain": [
              "True"
            ]
          },
          "metadata": {},
          "execution_count": 126
        }
      ]
    },
    {
      "cell_type": "code",
      "metadata": {
        "colab": {
          "base_uri": "https://localhost:8080/"
        },
        "id": "-dAiilmKE6gw",
        "outputId": "a3403459-2878-4163-fcbf-4a1f8ffe49ad"
      },
      "source": [
        "a is b"
      ],
      "execution_count": null,
      "outputs": [
        {
          "output_type": "execute_result",
          "data": {
            "text/plain": [
              "True"
            ]
          },
          "metadata": {},
          "execution_count": 127
        }
      ]
    },
    {
      "cell_type": "code",
      "metadata": {
        "id": "l9j0Yj7uFAN3"
      },
      "source": [
        "a = [1, 2, 3]\n",
        "b = [1, 2, 3]"
      ],
      "execution_count": null,
      "outputs": []
    },
    {
      "cell_type": "code",
      "metadata": {
        "colab": {
          "base_uri": "https://localhost:8080/"
        },
        "id": "vcVD9oVMFDkV",
        "outputId": "f4afc6d3-2f57-487f-b493-bd18f38f3c48"
      },
      "source": [
        "a == b"
      ],
      "execution_count": null,
      "outputs": [
        {
          "output_type": "execute_result",
          "data": {
            "text/plain": [
              "True"
            ]
          },
          "metadata": {},
          "execution_count": 129
        }
      ]
    },
    {
      "cell_type": "code",
      "metadata": {
        "colab": {
          "base_uri": "https://localhost:8080/"
        },
        "id": "BecySvPmFE1N",
        "outputId": "a6e56df7-f4c4-44a5-a142-a7d7c01d9262"
      },
      "source": [
        "a is b"
      ],
      "execution_count": null,
      "outputs": [
        {
          "output_type": "execute_result",
          "data": {
            "text/plain": [
              "False"
            ]
          },
          "metadata": {},
          "execution_count": 130
        }
      ]
    },
    {
      "cell_type": "markdown",
      "metadata": {
        "id": "O7UMHrV-O5CH"
      },
      "source": [
        "**8.11  Aliasing**"
      ]
    },
    {
      "cell_type": "code",
      "metadata": {
        "colab": {
          "base_uri": "https://localhost:8080/"
        },
        "id": "c0h9Rq5kFKvE",
        "outputId": "a86f19b8-a06b-4b0b-b420-990f296756c3"
      },
      "source": [
        "a = [1, 2, 3]\n",
        "b = a\n",
        "a is b"
      ],
      "execution_count": null,
      "outputs": [
        {
          "output_type": "execute_result",
          "data": {
            "text/plain": [
              "True"
            ]
          },
          "metadata": {},
          "execution_count": 131
        }
      ]
    },
    {
      "cell_type": "code",
      "metadata": {
        "colab": {
          "base_uri": "https://localhost:8080/"
        },
        "id": "h_Z7lvGxFQ5C",
        "outputId": "6d826996-079b-4006-f52c-42f0966103e1"
      },
      "source": [
        "b[0] = 5\n",
        "print (a)"
      ],
      "execution_count": null,
      "outputs": [
        {
          "output_type": "stream",
          "text": [
            "[5, 2, 3]\n"
          ],
          "name": "stdout"
        }
      ]
    },
    {
      "cell_type": "markdown",
      "metadata": {
        "id": "bVeOwj7BO_nl"
      },
      "source": [
        "**8.12  Cloning Lists**"
      ]
    },
    {
      "cell_type": "code",
      "metadata": {
        "colab": {
          "base_uri": "https://localhost:8080/"
        },
        "id": "wgyX7HXNFXAv",
        "outputId": "4cc0655f-2764-4768-f9e4-b2ef987e4287"
      },
      "source": [
        "a = [1, 2, 3]\n",
        "b = a[:]\n",
        "print (b)"
      ],
      "execution_count": null,
      "outputs": [
        {
          "output_type": "stream",
          "text": [
            "[1, 2, 3]\n"
          ],
          "name": "stdout"
        }
      ]
    },
    {
      "cell_type": "code",
      "metadata": {
        "colab": {
          "base_uri": "https://localhost:8080/"
        },
        "id": "hY6wirEkFc8C",
        "outputId": "a4cd735a-f181-4adb-91b6-16f16b2dce6c"
      },
      "source": [
        "b[0] = 5\n",
        "print (a)"
      ],
      "execution_count": null,
      "outputs": [
        {
          "output_type": "stream",
          "text": [
            "[1, 2, 3]\n"
          ],
          "name": "stdout"
        }
      ]
    },
    {
      "cell_type": "markdown",
      "metadata": {
        "id": "SjkhZiVuPFte"
      },
      "source": [
        "**8.13  List Parameters**"
      ]
    },
    {
      "cell_type": "code",
      "metadata": {
        "id": "nmN-dKeLGNvj"
      },
      "source": [
        "def double_stuff(a_list):\n",
        "    for index, value in enumerate(a_list):\n",
        "        a_list[index] = 2 * value"
      ],
      "execution_count": null,
      "outputs": []
    },
    {
      "cell_type": "markdown",
      "metadata": {
        "id": "KXKTE3yFPJzr"
      },
      "source": [
        "**8.14  Nested Lists**"
      ]
    },
    {
      "cell_type": "code",
      "metadata": {
        "id": "Iz99SOedXh-Y"
      },
      "source": [
        "nested = [\"hello\", 2.0, 5, [10, 20]]"
      ],
      "execution_count": null,
      "outputs": []
    },
    {
      "cell_type": "code",
      "metadata": {
        "colab": {
          "base_uri": "https://localhost:8080/"
        },
        "id": "AT4M4TfIXmRA",
        "outputId": "bd7ac7bc-215a-409c-b526-84e73e86d63e"
      },
      "source": [
        "elem = nested[3]\n",
        "elem[0]"
      ],
      "execution_count": null,
      "outputs": [
        {
          "output_type": "execute_result",
          "data": {
            "text/plain": [
              "10"
            ]
          },
          "metadata": {},
          "execution_count": 83
        }
      ]
    },
    {
      "cell_type": "code",
      "metadata": {
        "colab": {
          "base_uri": "https://localhost:8080/"
        },
        "id": "sm0ACL31Xt16",
        "outputId": "a0944cd3-a133-492c-f4ce-d2c603b69465"
      },
      "source": [
        "nested[3][1]"
      ],
      "execution_count": null,
      "outputs": [
        {
          "output_type": "execute_result",
          "data": {
            "text/plain": [
              "20"
            ]
          },
          "metadata": {},
          "execution_count": 84
        }
      ]
    },
    {
      "cell_type": "markdown",
      "metadata": {
        "id": "k-CkrgvFPQAb"
      },
      "source": [
        "**8.15  Matrixes**"
      ]
    },
    {
      "cell_type": "code",
      "metadata": {
        "id": "sl7rx-hhXxuL"
      },
      "source": [
        "matrix = [[1, 2, 3], [4, 5, 6], [7, 8, 9]]"
      ],
      "execution_count": null,
      "outputs": []
    },
    {
      "cell_type": "code",
      "metadata": {
        "colab": {
          "base_uri": "https://localhost:8080/"
        },
        "id": "waalfeMMX0oL",
        "outputId": "c624def5-ae58-46bd-837a-d8a2f419c3e3"
      },
      "source": [
        "matrix[1]"
      ],
      "execution_count": null,
      "outputs": [
        {
          "output_type": "execute_result",
          "data": {
            "text/plain": [
              "[4, 5, 6]"
            ]
          },
          "metadata": {},
          "execution_count": 86
        }
      ]
    },
    {
      "cell_type": "code",
      "metadata": {
        "colab": {
          "base_uri": "https://localhost:8080/"
        },
        "id": "cDPgmdehX4qq",
        "outputId": "de5b0056-bea1-4751-d982-b874cc660b4c"
      },
      "source": [
        "matrix[1][1]"
      ],
      "execution_count": null,
      "outputs": [
        {
          "output_type": "execute_result",
          "data": {
            "text/plain": [
              "5"
            ]
          },
          "metadata": {},
          "execution_count": 87
        }
      ]
    },
    {
      "cell_type": "markdown",
      "metadata": {
        "id": "VCBXlRxBPUSw"
      },
      "source": [
        "**8.16  Strings and Lists**"
      ]
    },
    {
      "cell_type": "code",
      "metadata": {
        "id": "2RsdVYeSjpFO"
      },
      "source": [
        "import string"
      ],
      "execution_count": null,
      "outputs": []
    },
    {
      "cell_type": "code",
      "metadata": {
        "colab": {
          "base_uri": "https://localhost:8080/"
        },
        "id": "CQAulPOpkAga",
        "outputId": "75642962-5a35-4495-b32a-388d6ec79069"
      },
      "source": [
        "song = \"The rain in Pak....\"\n",
        "str.split(song)"
      ],
      "execution_count": null,
      "outputs": [
        {
          "output_type": "execute_result",
          "data": {
            "text/plain": [
              "['The', 'rain', 'in', 'Pak....']"
            ]
          },
          "metadata": {},
          "execution_count": 147
        }
      ]
    },
    {
      "cell_type": "code",
      "metadata": {
        "colab": {
          "base_uri": "https://localhost:8080/"
        },
        "id": "mL-QjJqnkHG1",
        "outputId": "4759677b-5248-4858-c196-5eedc7a8050a"
      },
      "source": [
        "song = \"The rain in Pak....\"\n",
        "str.split(song,'a')"
      ],
      "execution_count": null,
      "outputs": [
        {
          "output_type": "execute_result",
          "data": {
            "text/plain": [
              "['The r', 'in in P', 'k....']"
            ]
          },
          "metadata": {},
          "execution_count": 148
        }
      ]
    },
    {
      "cell_type": "code",
      "metadata": {
        "colab": {
          "base_uri": "https://localhost:8080/",
          "height": 35
        },
        "id": "B9vFYhocYBXl",
        "outputId": "ffc5f8b5-1e52-4932-a219-e6fb39dbab1e"
      },
      "source": [
        "str(5)"
      ],
      "execution_count": null,
      "outputs": [
        {
          "output_type": "execute_result",
          "data": {
            "application/vnd.google.colaboratory.intrinsic+json": {
              "type": "string"
            },
            "text/plain": [
              "'5'"
            ]
          },
          "metadata": {},
          "execution_count": 137
        }
      ]
    },
    {
      "cell_type": "code",
      "metadata": {
        "colab": {
          "base_uri": "https://localhost:8080/",
          "height": 35
        },
        "id": "lFJzWBJgYCc2",
        "outputId": "079f5a68-ec04-422f-eb2b-cdb046227039"
      },
      "source": [
        "str(None)"
      ],
      "execution_count": null,
      "outputs": [
        {
          "output_type": "execute_result",
          "data": {
            "application/vnd.google.colaboratory.intrinsic+json": {
              "type": "string"
            },
            "text/plain": [
              "'None'"
            ]
          },
          "metadata": {},
          "execution_count": 138
        }
      ]
    },
    {
      "cell_type": "code",
      "metadata": {
        "colab": {
          "base_uri": "https://localhost:8080/"
        },
        "id": "2CEbTYFvYnDE",
        "outputId": "5e6ae8a1-db27-478e-b7ee-fa4a71eabe5f"
      },
      "source": [
        "import string\n",
        "song = \"The rain in Pak...\"\n",
        "str.split(song)"
      ],
      "execution_count": null,
      "outputs": [
        {
          "output_type": "execute_result",
          "data": {
            "text/plain": [
              "['The', 'rain', 'in', 'Pak...']"
            ]
          },
          "metadata": {},
          "execution_count": 155
        }
      ]
    },
    {
      "cell_type": "markdown",
      "metadata": {
        "id": "akQU8S3HMwIA"
      },
      "source": [
        "## **Chapter No 09**\n",
        "**Tuples**"
      ]
    },
    {
      "cell_type": "markdown",
      "metadata": {
        "id": "1O8Z0LXNPcTG"
      },
      "source": [
        "**9.1  Mutability and Tuples**"
      ]
    },
    {
      "cell_type": "code",
      "metadata": {
        "id": "a6Ht26hZkyy8"
      },
      "source": [
        "tuple='a','b','c','d','e'"
      ],
      "execution_count": null,
      "outputs": []
    },
    {
      "cell_type": "code",
      "metadata": {
        "id": "WuuuQNjik00S"
      },
      "source": [
        "tuple=('a','b','c','d','e')"
      ],
      "execution_count": null,
      "outputs": []
    },
    {
      "cell_type": "code",
      "metadata": {
        "colab": {
          "base_uri": "https://localhost:8080/"
        },
        "id": "VewFzzdEk3Gz",
        "outputId": "b7e1d39d-7035-457e-9160-e60a17773796"
      },
      "source": [
        "t1=('a',)\n",
        "type(t1)"
      ],
      "execution_count": null,
      "outputs": [
        {
          "output_type": "execute_result",
          "data": {
            "text/plain": [
              "tuple"
            ]
          },
          "metadata": {},
          "execution_count": 159
        }
      ]
    },
    {
      "cell_type": "code",
      "metadata": {
        "colab": {
          "base_uri": "https://localhost:8080/"
        },
        "id": "o2YQ33Vpk6NR",
        "outputId": "f8e6e93c-90bb-40cb-8ea8-8323c43a5a83"
      },
      "source": [
        "t2=('a',)\n",
        "type(t2)\n",
        "type ('string')"
      ],
      "execution_count": null,
      "outputs": [
        {
          "output_type": "execute_result",
          "data": {
            "text/plain": [
              "str"
            ]
          },
          "metadata": {},
          "execution_count": 160
        }
      ]
    },
    {
      "cell_type": "code",
      "metadata": {
        "colab": {
          "base_uri": "https://localhost:8080/",
          "height": 35
        },
        "id": "9pH1s5k3k7_S",
        "outputId": "899a1dae-4688-4704-e9cc-54ac555966e6"
      },
      "source": [
        "tuple=('a','b','c','d','e')\n",
        "tuple[0]"
      ],
      "execution_count": null,
      "outputs": [
        {
          "output_type": "execute_result",
          "data": {
            "application/vnd.google.colaboratory.intrinsic+json": {
              "type": "string"
            },
            "text/plain": [
              "'a'"
            ]
          },
          "metadata": {},
          "execution_count": 161
        }
      ]
    },
    {
      "cell_type": "code",
      "metadata": {
        "colab": {
          "base_uri": "https://localhost:8080/"
        },
        "id": "TT-arV23k-UW",
        "outputId": "03862966-a4c9-455c-b14a-40bd28fa6b55"
      },
      "source": [
        "tuple=('a','b','c','d','e')\n",
        "tuple[1:3]"
      ],
      "execution_count": null,
      "outputs": [
        {
          "output_type": "execute_result",
          "data": {
            "text/plain": [
              "('b', 'c')"
            ]
          },
          "metadata": {},
          "execution_count": 162
        }
      ]
    },
    {
      "cell_type": "markdown",
      "metadata": {
        "id": "9JumwrRvPkdN"
      },
      "source": [
        "**9.2  Tuple Assignment**"
      ]
    },
    {
      "cell_type": "code",
      "metadata": {
        "id": "01Lwx2oolG4j"
      },
      "source": [
        "temp=a\n",
        "a=b\n",
        "b=temp"
      ],
      "execution_count": null,
      "outputs": []
    },
    {
      "cell_type": "code",
      "metadata": {
        "id": "J1eHVuSFlIh2"
      },
      "source": [
        "a,b=b,a"
      ],
      "execution_count": null,
      "outputs": []
    },
    {
      "cell_type": "markdown",
      "metadata": {
        "id": "fHDh6rO7PseU"
      },
      "source": [
        "**9.3  Tuples as return Values**"
      ]
    },
    {
      "cell_type": "code",
      "metadata": {
        "id": "srs0NudrlK6g"
      },
      "source": [
        "def swap(x,y):\n",
        "  return y,x"
      ],
      "execution_count": null,
      "outputs": []
    },
    {
      "cell_type": "code",
      "metadata": {
        "colab": {
          "base_uri": "https://localhost:8080/"
        },
        "id": "ZvyLJXAJlNSr",
        "outputId": "df345e91-584d-443f-d09d-6fba254ff1df"
      },
      "source": [
        "a='Wasay '\n",
        "b='Abdul '\n",
        "a,b =swap (b,a)\n",
        "swap (a,b)"
      ],
      "execution_count": null,
      "outputs": [
        {
          "output_type": "execute_result",
          "data": {
            "text/plain": [
              "('Abdul ', 'Wasay ')"
            ]
          },
          "metadata": {},
          "execution_count": 169
        }
      ]
    },
    {
      "cell_type": "markdown",
      "metadata": {
        "id": "_lHeNZtFP4S_"
      },
      "source": [
        "**9.4  Random Numbers**"
      ]
    },
    {
      "cell_type": "code",
      "metadata": {
        "colab": {
          "base_uri": "https://localhost:8080/"
        },
        "id": "r7figXinlesy",
        "outputId": "e3a78106-9716-4e99-c039-9abb081f3403"
      },
      "source": [
        "import random\n",
        "for i in range(10):\n",
        "  x=random.random()\n",
        "  print(x)"
      ],
      "execution_count": null,
      "outputs": [
        {
          "output_type": "stream",
          "text": [
            "0.013912054399334184\n",
            "0.25488837875050463\n",
            "0.8557142208569952\n",
            "0.4890246129567095\n",
            "0.9680685146629782\n",
            "0.7464364385697148\n",
            "0.8923981051136309\n",
            "0.2705765990465674\n",
            "0.34829810190577504\n",
            "0.30392939902496086\n"
          ],
          "name": "stdout"
        }
      ]
    },
    {
      "cell_type": "markdown",
      "metadata": {
        "id": "8y12y1oZP-rv"
      },
      "source": [
        "**9.5  List of Random Numbers**"
      ]
    },
    {
      "cell_type": "code",
      "metadata": {
        "id": "XpGowRxoliqb"
      },
      "source": [
        "def randomList(n):\n",
        "  s=[3]*n\n",
        "  for i in range(n):\n",
        "    s[i]=random.random()\n",
        "    return s"
      ],
      "execution_count": null,
      "outputs": []
    },
    {
      "cell_type": "code",
      "metadata": {
        "colab": {
          "base_uri": "https://localhost:8080/"
        },
        "id": "9Gf2gZNKllmp",
        "outputId": "bc6e1ad7-991a-4c57-c153-1762316a93e2"
      },
      "source": [
        "randomList(8)"
      ],
      "execution_count": null,
      "outputs": [
        {
          "output_type": "execute_result",
          "data": {
            "text/plain": [
              "[0.8510732865435181, 3, 3, 3, 3, 3, 3, 3]"
            ]
          },
          "metadata": {},
          "execution_count": 172
        }
      ]
    },
    {
      "cell_type": "markdown",
      "metadata": {
        "id": "SSDRlF10QBQP"
      },
      "source": [
        "**9.6  Counting**"
      ]
    },
    {
      "cell_type": "code",
      "metadata": {
        "id": "WPG69U2Ylni3"
      },
      "source": [
        "count = 0\n",
        "fruit=[\"Banana\",\"Apple\",\"Graps\"]\n",
        "for char in fruit:\n",
        "  if char=='a':\n",
        "    count = count + 1\n",
        "    print(count)"
      ],
      "execution_count": null,
      "outputs": []
    },
    {
      "cell_type": "code",
      "metadata": {
        "id": "XEwxdCkYlqL8"
      },
      "source": [
        "def inBucket(list,low,high):\n",
        "  count=0\n",
        "  for num in list:\n",
        "    if low<num<high:\n",
        "      count=count + 1\n",
        "      return count"
      ],
      "execution_count": null,
      "outputs": []
    },
    {
      "cell_type": "markdown",
      "metadata": {
        "id": "OGoIx61OQHie"
      },
      "source": [
        "**9.7  Many Buckets**"
      ]
    },
    {
      "cell_type": "code",
      "metadata": {
        "colab": {
          "base_uri": "https://localhost:8080/"
        },
        "id": "SxXI0ra5lxad",
        "outputId": "29fe89d2-1758-44f8-9d8b-c1206a07977f"
      },
      "source": [
        "low=inBucket('a','0','0.5')\n",
        "print(low)\n",
        "high=inBucket('a','0.5','1')\n",
        "print(high)"
      ],
      "execution_count": null,
      "outputs": [
        {
          "output_type": "stream",
          "text": [
            "None\n",
            "None\n"
          ],
          "name": "stdout"
        }
      ]
    },
    {
      "cell_type": "code",
      "metadata": {
        "colab": {
          "base_uri": "https://localhost:8080/"
        },
        "id": "Zv9SPIo9pIxZ",
        "outputId": "824ae363-1c46-4723-985f-310cd73ccae4"
      },
      "source": [
        "buckWidth= 1.0 / numBuckets\n",
        "for i in range(numBuckets):\n",
        "  low=i*buckWidth\n",
        "  high=low + buckWidth\n",
        "  print(low ,\"to\", high)"
      ],
      "execution_count": null,
      "outputs": [
        {
          "output_type": "stream",
          "text": [
            "0.0 to 0.125\n",
            "0.125 to 0.25\n",
            "0.25 to 0.375\n",
            "0.375 to 0.5\n",
            "0.5 to 0.625\n",
            "0.625 to 0.75\n",
            "0.75 to 0.875\n",
            "0.875 to 1.0\n"
          ],
          "name": "stdout"
        }
      ]
    },
    {
      "cell_type": "code",
      "metadata": {
        "colab": {
          "base_uri": "https://localhost:8080/"
        },
        "id": "YQQh59B_l2ha",
        "outputId": "2962a47f-550a-44a4-847f-d931ced6c32d"
      },
      "source": [
        "numBuckets=8\n",
        "print(numBuckets)"
      ],
      "execution_count": null,
      "outputs": [
        {
          "output_type": "stream",
          "text": [
            "8\n"
          ],
          "name": "stdout"
        }
      ]
    },
    {
      "cell_type": "code",
      "metadata": {
        "colab": {
          "base_uri": "https://localhost:8080/"
        },
        "id": "XGCPdxnH_LRe",
        "outputId": "b249b3c6-5529-4d74-f2af-baff2483e267"
      },
      "source": [
        "numBuckets=8\n",
        "def inBucket(list,low,high):\n",
        "  print()\n",
        "buckets=[0]*numBuckets\n",
        "bucketWidth= 1.0 / numBuckets\n",
        "for i in range(numBuckets):\n",
        "  low=i*bucketWidth\n",
        "  high=low + bucketWidth\n",
        " ## buckets[i]= inBucket(list,low,high)\n",
        "  print(buckets)"
      ],
      "execution_count": null,
      "outputs": [
        {
          "output_type": "stream",
          "text": [
            "[0, 0, 0, 0, 0, 0, 0, 0]\n",
            "[0, 0, 0, 0, 0, 0, 0, 0]\n",
            "[0, 0, 0, 0, 0, 0, 0, 0]\n",
            "[0, 0, 0, 0, 0, 0, 0, 0]\n",
            "[0, 0, 0, 0, 0, 0, 0, 0]\n",
            "[0, 0, 0, 0, 0, 0, 0, 0]\n",
            "[0, 0, 0, 0, 0, 0, 0, 0]\n",
            "[0, 0, 0, 0, 0, 0, 0, 0]\n"
          ],
          "name": "stdout"
        }
      ]
    },
    {
      "cell_type": "markdown",
      "metadata": {
        "id": "6zPUtWvAQK5Y"
      },
      "source": [
        "**9.8  A Single-Pass Solution**"
      ]
    },
    {
      "cell_type": "code",
      "metadata": {
        "colab": {
          "base_uri": "https://localhost:8080/",
          "height": 231
        },
        "id": "d26b8AymrlEC",
        "outputId": "8ccfb1c2-e0b5-4c20-984e-9a3726bdf9ed"
      },
      "source": [
        "numBuckets=8\n",
        "buckWidth= [0]*numBuckets\n",
        "for i in list:\n",
        "  index=int(i * numBuckets)\n",
        "  buckets[index]=buckets[index] + 1\n",
        "  print(buckets)"
      ],
      "execution_count": null,
      "outputs": [
        {
          "output_type": "error",
          "ename": "ValueError",
          "evalue": "ignored",
          "traceback": [
            "\u001b[0;31m---------------------------------------------------------------------------\u001b[0m",
            "\u001b[0;31mValueError\u001b[0m                                Traceback (most recent call last)",
            "\u001b[0;32m<ipython-input-315-e3ef1a2f93f7>\u001b[0m in \u001b[0;36m<module>\u001b[0;34m()\u001b[0m\n\u001b[1;32m      2\u001b[0m \u001b[0mbuckWidth\u001b[0m\u001b[0;34m=\u001b[0m \u001b[0;34m[\u001b[0m\u001b[0;36m0\u001b[0m\u001b[0;34m]\u001b[0m\u001b[0;34m*\u001b[0m\u001b[0mnumBuckets\u001b[0m\u001b[0;34m\u001b[0m\u001b[0;34m\u001b[0m\u001b[0m\n\u001b[1;32m      3\u001b[0m \u001b[0;32mfor\u001b[0m \u001b[0mi\u001b[0m \u001b[0;32min\u001b[0m \u001b[0mlist\u001b[0m\u001b[0;34m:\u001b[0m\u001b[0;34m\u001b[0m\u001b[0;34m\u001b[0m\u001b[0m\n\u001b[0;32m----> 4\u001b[0;31m   \u001b[0mindex\u001b[0m\u001b[0;34m=\u001b[0m\u001b[0mint\u001b[0m\u001b[0;34m(\u001b[0m\u001b[0mi\u001b[0m \u001b[0;34m*\u001b[0m \u001b[0mnumBuckets\u001b[0m\u001b[0;34m)\u001b[0m\u001b[0;34m\u001b[0m\u001b[0;34m\u001b[0m\u001b[0m\n\u001b[0m\u001b[1;32m      5\u001b[0m   \u001b[0mbuckets\u001b[0m\u001b[0;34m[\u001b[0m\u001b[0mindex\u001b[0m\u001b[0;34m]\u001b[0m\u001b[0;34m=\u001b[0m\u001b[0mbuckets\u001b[0m\u001b[0;34m[\u001b[0m\u001b[0mindex\u001b[0m\u001b[0;34m]\u001b[0m \u001b[0;34m+\u001b[0m \u001b[0;36m1\u001b[0m\u001b[0;34m\u001b[0m\u001b[0;34m\u001b[0m\u001b[0m\n\u001b[1;32m      6\u001b[0m   \u001b[0mprint\u001b[0m\u001b[0;34m(\u001b[0m\u001b[0mbuckets\u001b[0m\u001b[0;34m)\u001b[0m\u001b[0;34m\u001b[0m\u001b[0;34m\u001b[0m\u001b[0m\n",
            "\u001b[0;31mValueError\u001b[0m: invalid literal for int() with base 10: 'TheTheTheTheTheTheTheThe'"
          ]
        }
      ]
    }
  ]
}